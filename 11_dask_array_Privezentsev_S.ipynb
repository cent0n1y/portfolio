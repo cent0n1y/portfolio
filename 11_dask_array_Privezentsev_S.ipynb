{
 "cells": [
  {
   "cell_type": "markdown",
   "metadata": {},
   "source": [
    "# Dask Array"
   ]
  },
  {
   "cell_type": "markdown",
   "metadata": {},
   "source": [
    "Материалы:\n",
    "* Макрушин С.В. Лекция 11: Dask\n",
    "* https://docs.dask.org/en/latest/array.html\n",
    "* JESSE C. DANIEL. Data Science with Python and Dask. "
   ]
  },
  {
   "cell_type": "markdown",
   "metadata": {},
   "source": [
    "## Задачи для совместного разбора"
   ]
  },
  {
   "cell_type": "code",
   "execution_count": 9,
   "metadata": {},
   "outputs": [],
   "source": [
    "import numpy as np\n",
    "import dask\n",
    "import dask.threaded as dthr\n",
    "from dask.threaded import get\n",
    "from dask.delayed import Delayed\n",
    "import dask.array as da"
   ]
  },
  {
   "cell_type": "markdown",
   "metadata": {},
   "source": [
    "1. Создайте массив размерностью 1000 на 300000, заполненный числами из стандартного нормального распределения. Исследуйте основные характеристики полученного массива."
   ]
  },
  {
   "cell_type": "code",
   "execution_count": 10,
   "metadata": {},
   "outputs": [
    {
     "name": "stdout",
     "output_type": "stream",
     "text": [
      "медиана: 1.3740721700036527e-05\n",
      "стандартное отклонение: 0.9999551684850614\n",
      "минимальное значение: -5.729057125528079\n",
      "максимальное значение: 6.088302162511303\n"
     ]
    }
   ],
   "source": [
    "arr = np.random.standard_normal((1000, 300000))\n",
    "\n",
    "mean = np.mean(arr)\n",
    "std_dev = np.std(arr)\n",
    "min_val = np.min(arr)\n",
    "max_val = np.max(arr)\n",
    "\n",
    "print(\"медиана:\", mean)\n",
    "print(\"стандартное отклонение:\", std_dev)\n",
    "print(\"минимальное значение:\", min_val)\n",
    "print(\"максимальное значение:\", max_val)"
   ]
  },
  {
   "cell_type": "markdown",
   "metadata": {},
   "source": [
    "2. Посчитайте сумму квадратов элементов массива, созданного в задаче 1. Создайте массив `np.array` такого же размера и сравните скорость решения задачи с использование `da.array` и `np.array`"
   ]
  },
  {
   "cell_type": "code",
   "execution_count": 11,
   "metadata": {},
   "outputs": [
    {
     "name": "stdout",
     "output_type": "stream",
     "text": [
      "Сумма квадратов элементов в массиве: 299974688.73309314\n"
     ]
    }
   ],
   "source": [
    "import numpy as np\n",
    "\n",
    "arr = np.random.standard_normal((1000, 300000))\n",
    "\n",
    "sum_of_squares = np.sum(np.square(arr))\n",
    "\n",
    "print(\"Сумма квадратов элементов в массиве:\", sum_of_squares)"
   ]
  },
  {
   "cell_type": "code",
   "execution_count": 12,
   "metadata": {},
   "outputs": [
    {
     "name": "stdout",
     "output_type": "stream",
     "text": [
      "Сумма квадратов элементов в массиве dask: 300027689.8186557\n"
     ]
    }
   ],
   "source": [
    "import dask.array as da\n",
    "\n",
    "\n",
    "arr_dask = da.random.standard_normal((1000, 300000))\n",
    "\n",
    "sum_of_squares_dask = da.sum(da.square(arr_dask)).compute()\n",
    "\n",
    "print(\"Сумма квадратов элементов в массиве dask:\", sum_of_squares_dask)"
   ]
  },
  {
   "cell_type": "code",
   "execution_count": 13,
   "metadata": {},
   "outputs": [
    {
     "name": "stdout",
     "output_type": "stream",
     "text": [
      "3.6099999078942346e-07\n",
      "2.0599998151737964e-07\n"
     ]
    }
   ],
   "source": [
    "\n",
    "\n",
    "import timeit\n",
    "import numpy as np\n",
    "import dask.array as da\n",
    "\n",
    "arr_np = np.random.standard_normal((1000, 300000))\n",
    "arr_dask = da.random.standard_normal((1000, 300000))\n",
    "time_np = timeit.timeit(lambda: np.sum(np.square(arr_np)), number=0)\n",
    "time_dask = timeit.timeit(lambda: np.sum(np.square(arr_dask)), number=0)\n",
    "print(time_np)\n",
    "print(time_dask)"
   ]
  },
  {
   "cell_type": "markdown",
   "metadata": {},
   "source": [
    "3. Визуализируйте граф вычислений для задачи 12."
   ]
  },
  {
   "cell_type": "code",
   "execution_count": null,
   "metadata": {},
   "outputs": [],
   "source": []
  },
  {
   "cell_type": "code",
   "execution_count": null,
   "metadata": {},
   "outputs": [],
   "source": [
    "da.sum(arr**2).visualize()"
   ]
  },
  {
   "cell_type": "markdown",
   "metadata": {},
   "source": [
    "## Лабораторная работа 11"
   ]
  },
  {
   "cell_type": "code",
   "execution_count": 22,
   "metadata": {},
   "outputs": [],
   "source": [
    "import dask.array as da\n",
    "import h5py\n",
    "import numpy as np"
   ]
  },
  {
   "cell_type": "markdown",
   "metadata": {},
   "source": [
    "1. Считайте датасет `recipe` из файла `minutes_n_ingredients_full.hdf5` в виде `dask.array`. Укажите аргумент `chunks=(100_000, 3)` при создании массива. Выведите на экран основную информацию о массиве."
   ]
  },
  {
   "cell_type": "code",
   "execution_count": 23,
   "metadata": {},
   "outputs": [
    {
     "name": "stdout",
     "output_type": "stream",
     "text": [
      "Привезенцев Семен\n"
     ]
    }
   ],
   "source": [
    "recipe = da.from_array(h5py.File(\"minutes_n_ingredients_full.hdf5\", 'r')['recipe'], chunks=(100_000, 3))\n",
    "recipe\n",
    "print(\"Привезенцев Семен\")"
   ]
  },
  {
   "cell_type": "code",
   "execution_count": 24,
   "metadata": {},
   "outputs": [
    {
     "name": "stdout",
     "output_type": "stream",
     "text": [
      "Shape = (2231637, 3)\n",
      "Size = 6694911\n",
      "Max = 2147483647\n",
      "Min = 0\n",
      "Mean = 375950.1723050538\n",
      "Привезенцев Семен\n"
     ]
    }
   ],
   "source": [
    "print(\"Shape =\",recipe.shape)\n",
    "print(\"Size =\",recipe.size)\n",
    "print(\"Max =\",recipe.max().compute())\n",
    "print(\"Min =\",recipe.min().compute())\n",
    "print(\"Mean =\",recipe.mean().compute())\n",
    "print(\"Привезенцев Семен\")"
   ]
  },
  {
   "cell_type": "markdown",
   "metadata": {},
   "source": [
    "2. Вычислите среднее значение по каждому столбцу, кроме первого. "
   ]
  },
  {
   "cell_type": "code",
   "execution_count": 25,
   "metadata": {},
   "outputs": [
    {
     "name": "stdout",
     "output_type": "stream",
     "text": [
      "[1004.20805176    5.4198008 ]\n",
      "Привезенцев Семен\n",
      "CPU times: user 91.9 ms, sys: 28.3 ms, total: 120 ms\n",
      "Wall time: 53.2 ms\n"
     ]
    }
   ],
   "source": [
    "%%time\n",
    "print(recipe[:, 1:].mean(axis=0).compute())\n",
    "print(\"Привезенцев Семен\")"
   ]
  },
  {
   "cell_type": "markdown",
   "metadata": {},
   "source": [
    "3. Исследуйте, как влияет значение аргумента `chunks` при создании `dask.array` на скорость выполнения операции поиска среднего. "
   ]
  },
  {
   "cell_type": "code",
   "execution_count": 26,
   "metadata": {},
   "outputs": [
    {
     "name": "stdout",
     "output_type": "stream",
     "text": [
      "Привезенцев Семен\n"
     ]
    }
   ],
   "source": [
    "recipe_2 = da.from_array(h5py.File(\"minutes_n_ingredients_full.hdf5\", 'r')['/recipe'], chunks=100)\n",
    "recipe_3 = da.from_array(h5py.File(\"minutes_n_ingredients_full.hdf5\", 'r')['/recipe'], chunks=99999999)\n",
    "recipe_4 = da.from_array(h5py.File(\"minutes_n_ingredients_full.hdf5\", 'r')['/recipe'], chunks=(10000, 10000))\n",
    "print(\"Привезенцев Семен\")"
   ]
  },
  {
   "cell_type": "code",
   "execution_count": 28,
   "metadata": {},
   "outputs": [
    {
     "name": "stdout",
     "output_type": "stream",
     "text": [
      "[1004.20805176    5.4198008 ]\n",
      "Привезенцев Семен\n",
      "CPU times: user 13.1 s, sys: 1.86 s, total: 14.9 s\n",
      "Wall time: 13.7 s\n"
     ]
    }
   ],
   "source": [
    "%%time\n",
    "print(recipe_2[:, 1:].mean(axis=0).compute())\n",
    "print(\"Привезенцев Семен\")"
   ]
  },
  {
   "cell_type": "code",
   "execution_count": 29,
   "metadata": {},
   "outputs": [
    {
     "name": "stdout",
     "output_type": "stream",
     "text": [
      "[1004.20805176    5.4198008 ]\n",
      "Привезенцев Семен\n",
      "CPU times: user 56.4 ms, sys: 44 ms, total: 100 ms\n",
      "Wall time: 98.9 ms\n"
     ]
    }
   ],
   "source": [
    "%%time\n",
    "print(recipe_3[:, 1:].mean(axis=0).compute())\n",
    "print(\"Привезенцев Семен\")"
   ]
  },
  {
   "cell_type": "code",
   "execution_count": 30,
   "metadata": {},
   "outputs": [
    {
     "name": "stdout",
     "output_type": "stream",
     "text": [
      "[1004.20805176    5.4198008 ]\n",
      "Привезенцев Семен\n",
      "CPU times: user 178 ms, sys: 34.5 ms, total: 212 ms\n",
      "Wall time: 143 ms\n"
     ]
    }
   ],
   "source": [
    "%%time\n",
    "print(recipe_4[:, 1:].mean(axis=0).compute())\n",
    "print(\"Привезенцев Семен\")"
   ]
  },
  {
   "cell_type": "markdown",
   "metadata": {},
   "source": [
    "Чем больше чанков, тем быстрее выполняется код"
   ]
  },
  {
   "cell_type": "markdown",
   "metadata": {},
   "source": [
    "4. Выберите рецепты, время выполнения которых меньше медианного значения"
   ]
  },
  {
   "cell_type": "code",
   "execution_count": 31,
   "metadata": {},
   "outputs": [
    {
     "name": "stdout",
     "output_type": "stream",
     "text": [
      "Привезенцев Семен\n"
     ]
    }
   ],
   "source": [
    "recipe[recipe[:, 1] < da.median(recipe[:, 1], axis=0).compute()].compute()\n",
    "print(\"Привезенцев Семен\")"
   ]
  },
  {
   "cell_type": "markdown",
   "metadata": {},
   "source": [
    "5. Посчитайте количество каждого из возможных значений кол-ва ингредиентов"
   ]
  },
  {
   "cell_type": "code",
   "execution_count": 33,
   "metadata": {},
   "outputs": [],
   "source": [
    "import pandas as pd"
   ]
  },
  {
   "cell_type": "code",
   "execution_count": 34,
   "metadata": {},
   "outputs": [
    {
     "data": {
      "text/html": [
       "<div>\n",
       "<style scoped>\n",
       "    .dataframe tbody tr th:only-of-type {\n",
       "        vertical-align: middle;\n",
       "    }\n",
       "\n",
       "    .dataframe tbody tr th {\n",
       "        vertical-align: top;\n",
       "    }\n",
       "\n",
       "    .dataframe thead th {\n",
       "        text-align: right;\n",
       "    }\n",
       "</style>\n",
       "<table border=\"1\" class=\"dataframe\">\n",
       "  <thead>\n",
       "    <tr style=\"text-align: right;\">\n",
       "      <th></th>\n",
       "      <th>counts</th>\n",
       "    </tr>\n",
       "    <tr>\n",
       "      <th>value</th>\n",
       "      <th></th>\n",
       "    </tr>\n",
       "  </thead>\n",
       "  <tbody>\n",
       "    <tr>\n",
       "      <th>1</th>\n",
       "      <td>222071</td>\n",
       "    </tr>\n",
       "    <tr>\n",
       "      <th>2</th>\n",
       "      <td>224158</td>\n",
       "    </tr>\n",
       "    <tr>\n",
       "      <th>3</th>\n",
       "      <td>229388</td>\n",
       "    </tr>\n",
       "    <tr>\n",
       "      <th>4</th>\n",
       "      <td>234948</td>\n",
       "    </tr>\n",
       "    <tr>\n",
       "      <th>5</th>\n",
       "      <td>240720</td>\n",
       "    </tr>\n",
       "    <tr>\n",
       "      <th>6</th>\n",
       "      <td>244360</td>\n",
       "    </tr>\n",
       "    <tr>\n",
       "      <th>7</th>\n",
       "      <td>247181</td>\n",
       "    </tr>\n",
       "    <tr>\n",
       "      <th>8</th>\n",
       "      <td>246747</td>\n",
       "    </tr>\n",
       "    <tr>\n",
       "      <th>9</th>\n",
       "      <td>246816</td>\n",
       "    </tr>\n",
       "    <tr>\n",
       "      <th>10</th>\n",
       "      <td>22430</td>\n",
       "    </tr>\n",
       "    <tr>\n",
       "      <th>11</th>\n",
       "      <td>19094</td>\n",
       "    </tr>\n",
       "    <tr>\n",
       "      <th>12</th>\n",
       "      <td>15165</td>\n",
       "    </tr>\n",
       "    <tr>\n",
       "      <th>13</th>\n",
       "      <td>11640</td>\n",
       "    </tr>\n",
       "    <tr>\n",
       "      <th>14</th>\n",
       "      <td>8284</td>\n",
       "    </tr>\n",
       "    <tr>\n",
       "      <th>15</th>\n",
       "      <td>6014</td>\n",
       "    </tr>\n",
       "    <tr>\n",
       "      <th>16</th>\n",
       "      <td>4145</td>\n",
       "    </tr>\n",
       "    <tr>\n",
       "      <th>17</th>\n",
       "      <td>2793</td>\n",
       "    </tr>\n",
       "    <tr>\n",
       "      <th>18</th>\n",
       "      <td>1913</td>\n",
       "    </tr>\n",
       "    <tr>\n",
       "      <th>19</th>\n",
       "      <td>1279</td>\n",
       "    </tr>\n",
       "    <tr>\n",
       "      <th>20</th>\n",
       "      <td>852</td>\n",
       "    </tr>\n",
       "    <tr>\n",
       "      <th>21</th>\n",
       "      <td>529</td>\n",
       "    </tr>\n",
       "    <tr>\n",
       "      <th>22</th>\n",
       "      <td>346</td>\n",
       "    </tr>\n",
       "    <tr>\n",
       "      <th>23</th>\n",
       "      <td>244</td>\n",
       "    </tr>\n",
       "    <tr>\n",
       "      <th>24</th>\n",
       "      <td>178</td>\n",
       "    </tr>\n",
       "    <tr>\n",
       "      <th>25</th>\n",
       "      <td>107</td>\n",
       "    </tr>\n",
       "    <tr>\n",
       "      <th>26</th>\n",
       "      <td>68</td>\n",
       "    </tr>\n",
       "    <tr>\n",
       "      <th>27</th>\n",
       "      <td>55</td>\n",
       "    </tr>\n",
       "    <tr>\n",
       "      <th>28</th>\n",
       "      <td>33</td>\n",
       "    </tr>\n",
       "    <tr>\n",
       "      <th>29</th>\n",
       "      <td>22</td>\n",
       "    </tr>\n",
       "    <tr>\n",
       "      <th>30</th>\n",
       "      <td>20</td>\n",
       "    </tr>\n",
       "    <tr>\n",
       "      <th>31</th>\n",
       "      <td>13</td>\n",
       "    </tr>\n",
       "    <tr>\n",
       "      <th>32</th>\n",
       "      <td>5</td>\n",
       "    </tr>\n",
       "    <tr>\n",
       "      <th>33</th>\n",
       "      <td>4</td>\n",
       "    </tr>\n",
       "    <tr>\n",
       "      <th>34</th>\n",
       "      <td>3</td>\n",
       "    </tr>\n",
       "    <tr>\n",
       "      <th>35</th>\n",
       "      <td>4</td>\n",
       "    </tr>\n",
       "    <tr>\n",
       "      <th>36</th>\n",
       "      <td>1</td>\n",
       "    </tr>\n",
       "    <tr>\n",
       "      <th>37</th>\n",
       "      <td>2</td>\n",
       "    </tr>\n",
       "    <tr>\n",
       "      <th>38</th>\n",
       "      <td>1</td>\n",
       "    </tr>\n",
       "    <tr>\n",
       "      <th>39</th>\n",
       "      <td>1</td>\n",
       "    </tr>\n",
       "    <tr>\n",
       "      <th>40</th>\n",
       "      <td>2</td>\n",
       "    </tr>\n",
       "    <tr>\n",
       "      <th>43</th>\n",
       "      <td>1</td>\n",
       "    </tr>\n",
       "  </tbody>\n",
       "</table>\n",
       "</div>"
      ],
      "text/plain": [
       "       counts\n",
       "value        \n",
       "1      222071\n",
       "2      224158\n",
       "3      229388\n",
       "4      234948\n",
       "5      240720\n",
       "6      244360\n",
       "7      247181\n",
       "8      246747\n",
       "9      246816\n",
       "10      22430\n",
       "11      19094\n",
       "12      15165\n",
       "13      11640\n",
       "14       8284\n",
       "15       6014\n",
       "16       4145\n",
       "17       2793\n",
       "18       1913\n",
       "19       1279\n",
       "20        852\n",
       "21        529\n",
       "22        346\n",
       "23        244\n",
       "24        178\n",
       "25        107\n",
       "26         68\n",
       "27         55\n",
       "28         33\n",
       "29         22\n",
       "30         20\n",
       "31         13\n",
       "32          5\n",
       "33          4\n",
       "34          3\n",
       "35          4\n",
       "36          1\n",
       "37          2\n",
       "38          1\n",
       "39          1\n",
       "40          2\n",
       "43          1"
      ]
     },
     "metadata": {},
     "output_type": "display_data"
    },
    {
     "name": "stdout",
     "output_type": "stream",
     "text": [
      "Привезенцев Семен\n"
     ]
    }
   ],
   "source": [
    "value, counts = da.unique(recipe[:, 2], return_counts=True)\n",
    "display(pd.DataFrame({\"value\": value.compute(), \"counts\": counts.compute()}).set_index(\"value\"))\n",
    "print(\"Привезенцев Семен\")"
   ]
  },
  {
   "cell_type": "markdown",
   "metadata": {},
   "source": [
    "6. Найдите максимальную продолжительность рецепта. Ограничьте максимальную продолжительность рецептов сверху значением, равному 75% квантилю."
   ]
  },
  {
   "cell_type": "code",
   "execution_count": 35,
   "metadata": {},
   "outputs": [
    {
     "name": "stdout",
     "output_type": "stream",
     "text": [
      "Максимальная продолжительность рецепта = 2147483647\n",
      "Привезенцев Семен\n"
     ]
    }
   ],
   "source": [
    "print(\"Максимальная продолжительность рецепта =\",da.max(recipe[:, 1]).compute())\n",
    "print(\"Привезенцев Семен\")"
   ]
  },
  {
   "cell_type": "code",
   "execution_count": 37,
   "metadata": {},
   "outputs": [],
   "source": [
    "recipe_75 = da.where(recipe[:, 1] > np.quantile(recipe[:, 1].compute(), 0.75), np.quantile(recipe[:, 1].compute(), 0.75), recipe[:, 1]).compute()"
   ]
  },
  {
   "cell_type": "code",
   "execution_count": 38,
   "metadata": {},
   "outputs": [
    {
     "name": "stdout",
     "output_type": "stream",
     "text": [
      "Максимальная продолжительность рецепта c ограничением = 49.0\n",
      "Привезенцев Семен\n"
     ]
    }
   ],
   "source": [
    "print(\"Максимальная продолжительность рецепта c ограничением =\",da.max(recipe_75).compute())\n",
    "print(\"Привезенцев Семен\")"
   ]
  },
  {
   "cell_type": "markdown",
   "metadata": {},
   "source": [
    "7. Создайте массив `dask.array` из 2 чисел, содержащих ваши предпочтения относительно времени выполнения рецепта и кол-ва ингредиентов. Найдите наиболее похожий (в смысле $L_1$) рецепт из имеющихся в датасете."
   ]
  },
  {
   "cell_type": "code",
   "execution_count": 39,
   "metadata": {},
   "outputs": [
    {
     "name": "stdout",
     "output_type": "stream",
     "text": [
      "[442705     30      5]\n",
      "Привезенцев Семен\n"
     ]
    }
   ],
   "source": [
    "arr = da.array([30, 5])\n",
    "MAE = (abs(recipe[:, 1:].compute()[:, 0] - arr.compute()[0]) + abs(recipe[:, 1:].compute()[:, 1] - arr.compute()[1]))\n",
    "print(recipe[np.argmin(MAE)].compute())\n",
    "print(\"Привезенцев Семен\")"
   ]
  },
  {
   "cell_type": "markdown",
   "metadata": {},
   "source": [
    "8. Работая с исходным файлом в формате `hdf5`, реализуйте алгоритм подсчета среднего значения в блочной форме и вычислите с его помощью среднее значение второго столбца в массиве.\n",
    "\n",
    "Блочный алгоритм вычислений состоит из двух частей:\n",
    "1. Загрузка фрагмента за фрагментом данных по `blocksize` элементов и проведение вычислений на этим фрагментом\n",
    "2. Агрегация результатов вычислений на различных фрагментах для получения результата на уровне всего набора данных\n",
    "\n",
    "Важно: при работе с `h5py` в память загружаются не все элементы, а только те, которые запрашиваются в данный момент"
   ]
  },
  {
   "cell_type": "code",
   "execution_count": 40,
   "metadata": {},
   "outputs": [],
   "source": [
    "def blocksize():\n",
    "    blocksize = 40000\n",
    "    with h5py.File(\"minutes_n_ingredients_full.hdf5\", 'r') as f:\n",
    "        time = f[\"recipe\"][:, 1]\n",
    "        summa = 0\n",
    "        count = 0\n",
    "        for i in range(0, time.shape[0], blocksize):\n",
    "            epoch = time[i: i+blocksize]\n",
    "            summa += epoch.sum()\n",
    "            count += epoch.shape[0]\n",
    "    print(\"Среднее значение =\",summa/count)\n",
    "    print(\"Привезенцев Семен\")"
   ]
  },
  {
   "cell_type": "code",
   "execution_count": 41,
   "metadata": {},
   "outputs": [
    {
     "name": "stdout",
     "output_type": "stream",
     "text": [
      "Среднее значение = 1004.2080517575215\n",
      "Привезенцев Семен\n",
      "Привезенцев Семен\n",
      "CPU times: user 29.1 ms, sys: 13.9 ms, total: 43 ms\n",
      "Wall time: 40.1 ms\n"
     ]
    }
   ],
   "source": [
    "%%time\n",
    "blocksize()\n",
    "print(\"Привезенцев Семен\")"
   ]
  },
  {
   "cell_type": "code",
   "execution_count": null,
   "metadata": {},
   "outputs": [],
   "source": []
  }
 ],
 "metadata": {
  "kernelspec": {
   "display_name": "Python 3 (ipykernel)",
   "language": "python",
   "name": "python3"
  },
  "language_info": {
   "codemirror_mode": {
    "name": "ipython",
    "version": 3
   },
   "file_extension": ".py",
   "mimetype": "text/x-python",
   "name": "python",
   "nbconvert_exporter": "python",
   "pygments_lexer": "ipython3",
   "version": "3.9.12"
  }
 },
 "nbformat": 4,
 "nbformat_minor": 4
}
