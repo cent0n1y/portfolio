{
 "cells": [
  {
   "cell_type": "markdown",
   "metadata": {},
   "source": [
    "# Dask DataFrame"
   ]
  },
  {
   "cell_type": "markdown",
   "metadata": {},
   "source": [
    "Материалы: \n",
    "* Макрушин С.В. Лекция 13: Dask DataFrame\n",
    "* https://docs.dask.org/en/latest/dataframe.html\n",
    "* JESSE C. DANIEL. Data Science with Python and Dask. "
   ]
  },
  {
   "cell_type": "markdown",
   "metadata": {},
   "source": [
    "## Задачи для совместного разбора"
   ]
  },
  {
   "cell_type": "markdown",
   "metadata": {},
   "source": [
    "1. Считать данные из файлов в каталоге `accounts`. Содержат ли какие-либо из столбцов пропуски?"
   ]
  },
  {
   "cell_type": "code",
   "execution_count": 1,
   "metadata": {},
   "outputs": [],
   "source": [
    "import operator\n",
    "import os\n",
    "import dask\n",
    "import dask.dataframe as dd\n",
    "import pandas as pd\n",
    "import numpy as np"
   ]
  },
  {
   "cell_type": "code",
   "execution_count": 2,
   "metadata": {},
   "outputs": [],
   "source": [
    "df = dd.read_csv('13_dask_dataframe_data/accounts/*.csv', dtype={'amount': 'float64'})"
   ]
  },
  {
   "cell_type": "code",
   "execution_count": 3,
   "metadata": {},
   "outputs": [
    {
     "data": {
      "text/html": [
       "<div>\n",
       "<style scoped>\n",
       "    .dataframe tbody tr th:only-of-type {\n",
       "        vertical-align: middle;\n",
       "    }\n",
       "\n",
       "    .dataframe tbody tr th {\n",
       "        vertical-align: top;\n",
       "    }\n",
       "\n",
       "    .dataframe thead th {\n",
       "        text-align: right;\n",
       "    }\n",
       "</style>\n",
       "<table border=\"1\" class=\"dataframe\">\n",
       "  <thead>\n",
       "    <tr style=\"text-align: right;\">\n",
       "      <th></th>\n",
       "      <th>id</th>\n",
       "      <th>names</th>\n",
       "      <th>amount</th>\n",
       "    </tr>\n",
       "  </thead>\n",
       "  <tbody>\n",
       "    <tr>\n",
       "      <th>0</th>\n",
       "      <td>39</td>\n",
       "      <td>Victor</td>\n",
       "      <td>205.0</td>\n",
       "    </tr>\n",
       "    <tr>\n",
       "      <th>1</th>\n",
       "      <td>289</td>\n",
       "      <td>Hannah</td>\n",
       "      <td>87.0</td>\n",
       "    </tr>\n",
       "    <tr>\n",
       "      <th>2</th>\n",
       "      <td>234</td>\n",
       "      <td>Victor</td>\n",
       "      <td>1820.0</td>\n",
       "    </tr>\n",
       "    <tr>\n",
       "      <th>3</th>\n",
       "      <td>155</td>\n",
       "      <td>Ray</td>\n",
       "      <td>-600.0</td>\n",
       "    </tr>\n",
       "    <tr>\n",
       "      <th>4</th>\n",
       "      <td>266</td>\n",
       "      <td>Ray</td>\n",
       "      <td>572.0</td>\n",
       "    </tr>\n",
       "    <tr>\n",
       "      <th>...</th>\n",
       "      <td>...</td>\n",
       "      <td>...</td>\n",
       "      <td>...</td>\n",
       "    </tr>\n",
       "    <tr>\n",
       "      <th>999995</th>\n",
       "      <td>270</td>\n",
       "      <td>Edith</td>\n",
       "      <td>810.0</td>\n",
       "    </tr>\n",
       "    <tr>\n",
       "      <th>999996</th>\n",
       "      <td>249</td>\n",
       "      <td>Norbert</td>\n",
       "      <td>132.0</td>\n",
       "    </tr>\n",
       "    <tr>\n",
       "      <th>999997</th>\n",
       "      <td>308</td>\n",
       "      <td>Kevin</td>\n",
       "      <td>20.0</td>\n",
       "    </tr>\n",
       "    <tr>\n",
       "      <th>999998</th>\n",
       "      <td>302</td>\n",
       "      <td>Tim</td>\n",
       "      <td>33.0</td>\n",
       "    </tr>\n",
       "    <tr>\n",
       "      <th>999999</th>\n",
       "      <td>288</td>\n",
       "      <td>Michael</td>\n",
       "      <td>2465.0</td>\n",
       "    </tr>\n",
       "  </tbody>\n",
       "</table>\n",
       "<p>3000000 rows × 3 columns</p>\n",
       "</div>"
      ],
      "text/plain": [
       "         id    names  amount\n",
       "0        39   Victor   205.0\n",
       "1       289   Hannah    87.0\n",
       "2       234   Victor  1820.0\n",
       "3       155      Ray  -600.0\n",
       "4       266      Ray   572.0\n",
       "...     ...      ...     ...\n",
       "999995  270    Edith   810.0\n",
       "999996  249  Norbert   132.0\n",
       "999997  308    Kevin    20.0\n",
       "999998  302      Tim    33.0\n",
       "999999  288  Michael  2465.0\n",
       "\n",
       "[3000000 rows x 3 columns]"
      ]
     },
     "execution_count": 3,
     "metadata": {},
     "output_type": "execute_result"
    }
   ],
   "source": [
    "df.compute()"
   ]
  },
  {
   "cell_type": "code",
   "execution_count": 4,
   "metadata": {},
   "outputs": [
    {
     "name": "stdout",
     "output_type": "stream",
     "text": [
      "<class 'pandas.core.frame.DataFrame'>\n",
      "Int64Index: 3000000 entries, 0 to 999999\n",
      "Data columns (total 3 columns):\n",
      " #   Column  Dtype  \n",
      "---  ------  -----  \n",
      " 0   id      int64  \n",
      " 1   names   object \n",
      " 2   amount  float64\n",
      "dtypes: float64(1), int64(1), object(1)\n",
      "memory usage: 91.6+ MB\n"
     ]
    }
   ],
   "source": [
    "df.compute().info()"
   ]
  },
  {
   "cell_type": "markdown",
   "metadata": {},
   "source": [
    "2. Подсчитать количество раз, которое то или иное имя встретилось в выборке. Вывести самое часто встречающееся имя."
   ]
  },
  {
   "cell_type": "code",
   "execution_count": 5,
   "metadata": {},
   "outputs": [
    {
     "data": {
      "text/plain": [
       "Norbert     188147\n",
       "Alice       185892\n",
       "George      183249\n",
       "Tim         162432\n",
       "Bob         157065\n",
       "Michael     148372\n",
       "Ingrid      132067\n",
       "Oliver      121907\n",
       "Quinn       118071\n",
       "Wendy       110657\n",
       "Charlie     109236\n",
       "Ursula      108745\n",
       "Hannah      108632\n",
       "Ray         108610\n",
       "Sarah       104781\n",
       "Victor      102656\n",
       "Frank        99984\n",
       "Laura        97216\n",
       "Jerry        96378\n",
       "Xavier       94445\n",
       "Edith        89991\n",
       "Zelda        89047\n",
       "Kevin        84784\n",
       "Dan          73293\n",
       "Patricia     62881\n",
       "Yvonne       61462\n",
       "Name: names, dtype: int64"
      ]
     },
     "execution_count": 5,
     "metadata": {},
     "output_type": "execute_result"
    }
   ],
   "source": [
    "name_count = df['names'].value_counts().compute()\n",
    "name_count"
   ]
  },
  {
   "cell_type": "markdown",
   "metadata": {},
   "source": [
    "3. Создать новую колонку, которая является результатом от деления значения `amount` нацело на 100, если `amount` > 100, и нулём в противном случае."
   ]
  },
  {
   "cell_type": "code",
   "execution_count": 6,
   "metadata": {},
   "outputs": [],
   "source": [
    "def new_column(x):\n",
    "    if x > 100:\n",
    "        return x // 100\n",
    "    else:\n",
    "        return 0"
   ]
  },
  {
   "cell_type": "code",
   "execution_count": 7,
   "metadata": {},
   "outputs": [
    {
     "data": {
      "text/html": [
       "<div>\n",
       "<style scoped>\n",
       "    .dataframe tbody tr th:only-of-type {\n",
       "        vertical-align: middle;\n",
       "    }\n",
       "\n",
       "    .dataframe tbody tr th {\n",
       "        vertical-align: top;\n",
       "    }\n",
       "\n",
       "    .dataframe thead th {\n",
       "        text-align: right;\n",
       "    }\n",
       "</style>\n",
       "<table border=\"1\" class=\"dataframe\">\n",
       "  <thead>\n",
       "    <tr style=\"text-align: right;\">\n",
       "      <th></th>\n",
       "      <th>id</th>\n",
       "      <th>names</th>\n",
       "      <th>amount</th>\n",
       "      <th>new_column</th>\n",
       "    </tr>\n",
       "  </thead>\n",
       "  <tbody>\n",
       "    <tr>\n",
       "      <th>0</th>\n",
       "      <td>39</td>\n",
       "      <td>Victor</td>\n",
       "      <td>205.0</td>\n",
       "      <td>2.0</td>\n",
       "    </tr>\n",
       "    <tr>\n",
       "      <th>1</th>\n",
       "      <td>289</td>\n",
       "      <td>Hannah</td>\n",
       "      <td>87.0</td>\n",
       "      <td>0.0</td>\n",
       "    </tr>\n",
       "    <tr>\n",
       "      <th>2</th>\n",
       "      <td>234</td>\n",
       "      <td>Victor</td>\n",
       "      <td>1820.0</td>\n",
       "      <td>18.0</td>\n",
       "    </tr>\n",
       "    <tr>\n",
       "      <th>3</th>\n",
       "      <td>155</td>\n",
       "      <td>Ray</td>\n",
       "      <td>-600.0</td>\n",
       "      <td>0.0</td>\n",
       "    </tr>\n",
       "    <tr>\n",
       "      <th>4</th>\n",
       "      <td>266</td>\n",
       "      <td>Ray</td>\n",
       "      <td>572.0</td>\n",
       "      <td>5.0</td>\n",
       "    </tr>\n",
       "    <tr>\n",
       "      <th>...</th>\n",
       "      <td>...</td>\n",
       "      <td>...</td>\n",
       "      <td>...</td>\n",
       "      <td>...</td>\n",
       "    </tr>\n",
       "    <tr>\n",
       "      <th>999995</th>\n",
       "      <td>270</td>\n",
       "      <td>Edith</td>\n",
       "      <td>810.0</td>\n",
       "      <td>8.0</td>\n",
       "    </tr>\n",
       "    <tr>\n",
       "      <th>999996</th>\n",
       "      <td>249</td>\n",
       "      <td>Norbert</td>\n",
       "      <td>132.0</td>\n",
       "      <td>1.0</td>\n",
       "    </tr>\n",
       "    <tr>\n",
       "      <th>999997</th>\n",
       "      <td>308</td>\n",
       "      <td>Kevin</td>\n",
       "      <td>20.0</td>\n",
       "      <td>0.0</td>\n",
       "    </tr>\n",
       "    <tr>\n",
       "      <th>999998</th>\n",
       "      <td>302</td>\n",
       "      <td>Tim</td>\n",
       "      <td>33.0</td>\n",
       "      <td>0.0</td>\n",
       "    </tr>\n",
       "    <tr>\n",
       "      <th>999999</th>\n",
       "      <td>288</td>\n",
       "      <td>Michael</td>\n",
       "      <td>2465.0</td>\n",
       "      <td>24.0</td>\n",
       "    </tr>\n",
       "  </tbody>\n",
       "</table>\n",
       "<p>3000000 rows × 4 columns</p>\n",
       "</div>"
      ],
      "text/plain": [
       "         id    names  amount  new_column\n",
       "0        39   Victor   205.0         2.0\n",
       "1       289   Hannah    87.0         0.0\n",
       "2       234   Victor  1820.0        18.0\n",
       "3       155      Ray  -600.0         0.0\n",
       "4       266      Ray   572.0         5.0\n",
       "...     ...      ...     ...         ...\n",
       "999995  270    Edith   810.0         8.0\n",
       "999996  249  Norbert   132.0         1.0\n",
       "999997  308    Kevin    20.0         0.0\n",
       "999998  302      Tim    33.0         0.0\n",
       "999999  288  Michael  2465.0        24.0\n",
       "\n",
       "[3000000 rows x 4 columns]"
      ]
     },
     "execution_count": 7,
     "metadata": {},
     "output_type": "execute_result"
    }
   ],
   "source": [
    "df['new_column'] = df['amount'].apply(new_column, meta=('amount', 'int64'))\n",
    "df.compute()"
   ]
  },
  {
   "cell_type": "markdown",
   "metadata": {},
   "source": [
    "## Лабораторная работа 13"
   ]
  },
  {
   "cell_type": "code",
   "execution_count": 8,
   "metadata": {},
   "outputs": [],
   "source": [
    "import dask.dataframe as dd\n",
    "import pandas as pd\n",
    "import dask.bag as db\n",
    "import json\n",
    "import dask"
   ]
  },
  {
   "cell_type": "markdown",
   "metadata": {},
   "source": [
    "1. В архиве `recipes_full.zip` находятся файлы, содержащие информацию об рецептах блюд. Загрузите данные из файлов этого архива в виде `dd.DataFrame` с названием `recipes`. Укажите, что в столбце `submitted` содержатся даты."
   ]
  },
  {
   "cell_type": "code",
   "execution_count": 23,
   "metadata": {},
   "outputs": [
    {
     "data": {
      "text/html": [
       "<div>\n",
       "<style scoped>\n",
       "    .dataframe tbody tr th:only-of-type {\n",
       "        vertical-align: middle;\n",
       "    }\n",
       "\n",
       "    .dataframe tbody tr th {\n",
       "        vertical-align: top;\n",
       "    }\n",
       "\n",
       "    .dataframe thead th {\n",
       "        text-align: right;\n",
       "    }\n",
       "</style>\n",
       "<table border=\"1\" class=\"dataframe\">\n",
       "  <thead>\n",
       "    <tr style=\"text-align: right;\">\n",
       "      <th></th>\n",
       "      <th>id</th>\n",
       "      <th>name</th>\n",
       "      <th>minutes</th>\n",
       "      <th>contributor_id</th>\n",
       "      <th>submitted</th>\n",
       "      <th>n_steps</th>\n",
       "      <th>description</th>\n",
       "      <th>n_ingredients</th>\n",
       "    </tr>\n",
       "  </thead>\n",
       "  <tbody>\n",
       "    <tr>\n",
       "      <th>0</th>\n",
       "      <td>683970</td>\n",
       "      <td>vant ivoire mickies nothing</td>\n",
       "      <td>33.0</td>\n",
       "      <td>803776</td>\n",
       "      <td>2019-08-22</td>\n",
       "      <td>4.0</td>\n",
       "      <td>pat and gina neely and their family own and op...</td>\n",
       "      <td>9</td>\n",
       "    </tr>\n",
       "    <tr>\n",
       "      <th>1</th>\n",
       "      <td>1089012</td>\n",
       "      <td>kremsils mariposa baccala cookies class borage...</td>\n",
       "      <td>23.0</td>\n",
       "      <td>51579</td>\n",
       "      <td>2013-03-02</td>\n",
       "      <td>1.0</td>\n",
       "      <td>a light, tasty and easy to put together chicke...</td>\n",
       "      <td>5</td>\n",
       "    </tr>\n",
       "    <tr>\n",
       "      <th>2</th>\n",
       "      <td>1428572</td>\n",
       "      <td>tania lander</td>\n",
       "      <td>0.0</td>\n",
       "      <td>68884</td>\n",
       "      <td>1980-11-09</td>\n",
       "      <td>1.0</td>\n",
       "      <td>a delicious melt in your mouth appetizer. for ...</td>\n",
       "      <td>5</td>\n",
       "    </tr>\n",
       "    <tr>\n",
       "      <th>3</th>\n",
       "      <td>1400250</td>\n",
       "      <td>heloise milli asher doogh zojirushi</td>\n",
       "      <td>24.0</td>\n",
       "      <td>678862</td>\n",
       "      <td>2018-04-29</td>\n",
       "      <td>3.0</td>\n",
       "      <td>delicious cream cheese and peach filled cresce...</td>\n",
       "      <td>1</td>\n",
       "    </tr>\n",
       "    <tr>\n",
       "      <th>4</th>\n",
       "      <td>387709</td>\n",
       "      <td>nutty chocolate chunk cookies</td>\n",
       "      <td>47.0</td>\n",
       "      <td>489552</td>\n",
       "      <td>2009-08-31</td>\n",
       "      <td>8.0</td>\n",
       "      <td>everyone loves these buttery cookies chock ful...</td>\n",
       "      <td>10</td>\n",
       "    </tr>\n",
       "    <tr>\n",
       "      <th>...</th>\n",
       "      <td>...</td>\n",
       "      <td>...</td>\n",
       "      <td>...</td>\n",
       "      <td>...</td>\n",
       "      <td>...</td>\n",
       "      <td>...</td>\n",
       "      <td>...</td>\n",
       "      <td>...</td>\n",
       "    </tr>\n",
       "    <tr>\n",
       "      <th>44011</th>\n",
       "      <td>1029131</td>\n",
       "      <td>tuti waffle snackies steakhouse</td>\n",
       "      <td>19.0</td>\n",
       "      <td>171345</td>\n",
       "      <td>1973-10-18</td>\n",
       "      <td>4.0</td>\n",
       "      <td>according to a providence journal article, ama...</td>\n",
       "      <td>4</td>\n",
       "    </tr>\n",
       "    <tr>\n",
       "      <th>44012</th>\n",
       "      <td>1700703</td>\n",
       "      <td>noelias cheats crocante fleisch zitumbuwa</td>\n",
       "      <td>1.0</td>\n",
       "      <td>30228</td>\n",
       "      <td>2007-07-01</td>\n",
       "      <td>6.0</td>\n",
       "      <td>if possible sauté the onions and garlic in abo...</td>\n",
       "      <td>1</td>\n",
       "    </tr>\n",
       "    <tr>\n",
       "      <th>44013</th>\n",
       "      <td>1910650</td>\n",
       "      <td>rubbed restuffed pelmeni bedouin flavourful</td>\n",
       "      <td>60.0</td>\n",
       "      <td>591905</td>\n",
       "      <td>2009-09-26</td>\n",
       "      <td>3.0</td>\n",
       "      <td>another great recipe to add to the growing swe...</td>\n",
       "      <td>2</td>\n",
       "    </tr>\n",
       "    <tr>\n",
       "      <th>44014</th>\n",
       "      <td>713836</td>\n",
       "      <td>stems polpettine peezi</td>\n",
       "      <td>NaN</td>\n",
       "      <td>357389</td>\n",
       "      <td>2003-09-30</td>\n",
       "      <td>4.0</td>\n",
       "      <td>adapted from top secret recipes. love this!</td>\n",
       "      <td>9</td>\n",
       "    </tr>\n",
       "    <tr>\n",
       "      <th>44015</th>\n",
       "      <td>660699</td>\n",
       "      <td>clementines</td>\n",
       "      <td>64.0</td>\n",
       "      <td>29196</td>\n",
       "      <td>1973-06-03</td>\n",
       "      <td>6.0</td>\n",
       "      <td>this would make a great start to your holiday ...</td>\n",
       "      <td>8</td>\n",
       "    </tr>\n",
       "  </tbody>\n",
       "</table>\n",
       "<p>2231637 rows × 8 columns</p>\n",
       "</div>"
      ],
      "text/plain": [
       "            id                                               name  minutes  \\\n",
       "0       683970                        vant ivoire mickies nothing     33.0   \n",
       "1      1089012  kremsils mariposa baccala cookies class borage...     23.0   \n",
       "2      1428572                                       tania lander      0.0   \n",
       "3      1400250                heloise milli asher doogh zojirushi     24.0   \n",
       "4       387709                      nutty chocolate chunk cookies     47.0   \n",
       "...        ...                                                ...      ...   \n",
       "44011  1029131                    tuti waffle snackies steakhouse     19.0   \n",
       "44012  1700703          noelias cheats crocante fleisch zitumbuwa      1.0   \n",
       "44013  1910650        rubbed restuffed pelmeni bedouin flavourful     60.0   \n",
       "44014   713836                             stems polpettine peezi      NaN   \n",
       "44015   660699                                        clementines     64.0   \n",
       "\n",
       "       contributor_id  submitted  n_steps  \\\n",
       "0              803776 2019-08-22      4.0   \n",
       "1               51579 2013-03-02      1.0   \n",
       "2               68884 1980-11-09      1.0   \n",
       "3              678862 2018-04-29      3.0   \n",
       "4              489552 2009-08-31      8.0   \n",
       "...               ...        ...      ...   \n",
       "44011          171345 1973-10-18      4.0   \n",
       "44012           30228 2007-07-01      6.0   \n",
       "44013          591905 2009-09-26      3.0   \n",
       "44014          357389 2003-09-30      4.0   \n",
       "44015           29196 1973-06-03      6.0   \n",
       "\n",
       "                                             description  n_ingredients  \n",
       "0      pat and gina neely and their family own and op...              9  \n",
       "1      a light, tasty and easy to put together chicke...              5  \n",
       "2      a delicious melt in your mouth appetizer. for ...              5  \n",
       "3      delicious cream cheese and peach filled cresce...              1  \n",
       "4      everyone loves these buttery cookies chock ful...             10  \n",
       "...                                                  ...            ...  \n",
       "44011  according to a providence journal article, ama...              4  \n",
       "44012  if possible sauté the onions and garlic in abo...              1  \n",
       "44013  another great recipe to add to the growing swe...              2  \n",
       "44014        adapted from top secret recipes. love this!              9  \n",
       "44015  this would make a great start to your holiday ...              8  \n",
       "\n",
       "[2231637 rows x 8 columns]"
      ]
     },
     "execution_count": 23,
     "metadata": {},
     "output_type": "execute_result"
    }
   ],
   "source": [
    "recipes = dd.read_csv('13_dask_dataframe_data/recipes_full/*.csv', parse_dates=['submitted'], dtype={'minutes': 'float64', 'n_steps': 'float64'})\n",
    "recipes.compute()"
   ]
  },
  {
   "cell_type": "code",
   "execution_count": 1,
   "metadata": {},
   "outputs": [
    {
     "name": "stdout",
     "output_type": "stream",
     "text": [
      "Привезенцев Семен\n"
     ]
    }
   ],
   "source": [
    "print(\"Привезенцев Семен\")"
   ]
  },
  {
   "cell_type": "markdown",
   "metadata": {},
   "source": [
    "2. Выведите метаинформацию о таблице: `npartitions` и типы столбцов."
   ]
  },
  {
   "cell_type": "code",
   "execution_count": 24,
   "metadata": {
    "scrolled": true
   },
   "outputs": [
    {
     "name": "stdout",
     "output_type": "stream",
     "text": [
      "Количество npartitions:  16\n"
     ]
    },
    {
     "data": {
      "text/plain": [
       "id                         int64\n",
       "name                      object\n",
       "minutes                  float64\n",
       "contributor_id             int64\n",
       "submitted         datetime64[ns]\n",
       "n_steps                  float64\n",
       "description               object\n",
       "n_ingredients              int64\n",
       "dtype: object"
      ]
     },
     "execution_count": 24,
     "metadata": {},
     "output_type": "execute_result"
    }
   ],
   "source": [
    "print(\"Количество npartitions: \", recipes.npartitions)\n",
    "recipes.dtypes"
   ]
  },
  {
   "cell_type": "code",
   "execution_count": 2,
   "metadata": {},
   "outputs": [
    {
     "name": "stdout",
     "output_type": "stream",
     "text": [
      "Привезенцев Семен\n"
     ]
    }
   ],
   "source": [
    "print(\"Привезенцев Семен\")"
   ]
  },
  {
   "cell_type": "markdown",
   "metadata": {},
   "source": [
    "3. Выведите на экран 5 первых строк таблицы. Выведите на экран 5 последних строк таблицы. В случае сообщения об ошибки объясните причину и исправьте ошибку."
   ]
  },
  {
   "cell_type": "code",
   "execution_count": 25,
   "metadata": {},
   "outputs": [
    {
     "data": {
      "text/html": [
       "<div>\n",
       "<style scoped>\n",
       "    .dataframe tbody tr th:only-of-type {\n",
       "        vertical-align: middle;\n",
       "    }\n",
       "\n",
       "    .dataframe tbody tr th {\n",
       "        vertical-align: top;\n",
       "    }\n",
       "\n",
       "    .dataframe thead th {\n",
       "        text-align: right;\n",
       "    }\n",
       "</style>\n",
       "<table border=\"1\" class=\"dataframe\">\n",
       "  <thead>\n",
       "    <tr style=\"text-align: right;\">\n",
       "      <th></th>\n",
       "      <th>id</th>\n",
       "      <th>name</th>\n",
       "      <th>minutes</th>\n",
       "      <th>contributor_id</th>\n",
       "      <th>submitted</th>\n",
       "      <th>n_steps</th>\n",
       "      <th>description</th>\n",
       "      <th>n_ingredients</th>\n",
       "    </tr>\n",
       "  </thead>\n",
       "  <tbody>\n",
       "    <tr>\n",
       "      <th>0</th>\n",
       "      <td>683970</td>\n",
       "      <td>vant ivoire mickies nothing</td>\n",
       "      <td>33.0</td>\n",
       "      <td>803776</td>\n",
       "      <td>2019-08-22</td>\n",
       "      <td>4.0</td>\n",
       "      <td>pat and gina neely and their family own and op...</td>\n",
       "      <td>9</td>\n",
       "    </tr>\n",
       "    <tr>\n",
       "      <th>1</th>\n",
       "      <td>1089012</td>\n",
       "      <td>kremsils mariposa baccala cookies class borage...</td>\n",
       "      <td>23.0</td>\n",
       "      <td>51579</td>\n",
       "      <td>2013-03-02</td>\n",
       "      <td>1.0</td>\n",
       "      <td>a light, tasty and easy to put together chicke...</td>\n",
       "      <td>5</td>\n",
       "    </tr>\n",
       "    <tr>\n",
       "      <th>2</th>\n",
       "      <td>1428572</td>\n",
       "      <td>tania lander</td>\n",
       "      <td>0.0</td>\n",
       "      <td>68884</td>\n",
       "      <td>1980-11-09</td>\n",
       "      <td>1.0</td>\n",
       "      <td>a delicious melt in your mouth appetizer. for ...</td>\n",
       "      <td>5</td>\n",
       "    </tr>\n",
       "    <tr>\n",
       "      <th>3</th>\n",
       "      <td>1400250</td>\n",
       "      <td>heloise milli asher doogh zojirushi</td>\n",
       "      <td>24.0</td>\n",
       "      <td>678862</td>\n",
       "      <td>2018-04-29</td>\n",
       "      <td>3.0</td>\n",
       "      <td>delicious cream cheese and peach filled cresce...</td>\n",
       "      <td>1</td>\n",
       "    </tr>\n",
       "    <tr>\n",
       "      <th>4</th>\n",
       "      <td>387709</td>\n",
       "      <td>nutty chocolate chunk cookies</td>\n",
       "      <td>47.0</td>\n",
       "      <td>489552</td>\n",
       "      <td>2009-08-31</td>\n",
       "      <td>8.0</td>\n",
       "      <td>everyone loves these buttery cookies chock ful...</td>\n",
       "      <td>10</td>\n",
       "    </tr>\n",
       "  </tbody>\n",
       "</table>\n",
       "</div>"
      ],
      "text/plain": [
       "        id                                               name  minutes  \\\n",
       "0   683970                        vant ivoire mickies nothing     33.0   \n",
       "1  1089012  kremsils mariposa baccala cookies class borage...     23.0   \n",
       "2  1428572                                       tania lander      0.0   \n",
       "3  1400250                heloise milli asher doogh zojirushi     24.0   \n",
       "4   387709                      nutty chocolate chunk cookies     47.0   \n",
       "\n",
       "   contributor_id  submitted  n_steps  \\\n",
       "0          803776 2019-08-22      4.0   \n",
       "1           51579 2013-03-02      1.0   \n",
       "2           68884 1980-11-09      1.0   \n",
       "3          678862 2018-04-29      3.0   \n",
       "4          489552 2009-08-31      8.0   \n",
       "\n",
       "                                         description  n_ingredients  \n",
       "0  pat and gina neely and their family own and op...              9  \n",
       "1  a light, tasty and easy to put together chicke...              5  \n",
       "2  a delicious melt in your mouth appetizer. for ...              5  \n",
       "3  delicious cream cheese and peach filled cresce...              1  \n",
       "4  everyone loves these buttery cookies chock ful...             10  "
      ]
     },
     "execution_count": 25,
     "metadata": {},
     "output_type": "execute_result"
    }
   ],
   "source": [
    "recipes.head(5)"
   ]
  },
  {
   "cell_type": "code",
   "execution_count": 26,
   "metadata": {},
   "outputs": [
    {
     "data": {
      "text/html": [
       "<div>\n",
       "<style scoped>\n",
       "    .dataframe tbody tr th:only-of-type {\n",
       "        vertical-align: middle;\n",
       "    }\n",
       "\n",
       "    .dataframe tbody tr th {\n",
       "        vertical-align: top;\n",
       "    }\n",
       "\n",
       "    .dataframe thead th {\n",
       "        text-align: right;\n",
       "    }\n",
       "</style>\n",
       "<table border=\"1\" class=\"dataframe\">\n",
       "  <thead>\n",
       "    <tr style=\"text-align: right;\">\n",
       "      <th></th>\n",
       "      <th>id</th>\n",
       "      <th>name</th>\n",
       "      <th>minutes</th>\n",
       "      <th>contributor_id</th>\n",
       "      <th>submitted</th>\n",
       "      <th>n_steps</th>\n",
       "      <th>description</th>\n",
       "      <th>n_ingredients</th>\n",
       "    </tr>\n",
       "  </thead>\n",
       "  <tbody>\n",
       "    <tr>\n",
       "      <th>44011</th>\n",
       "      <td>1029131</td>\n",
       "      <td>tuti waffle snackies steakhouse</td>\n",
       "      <td>19.0</td>\n",
       "      <td>171345</td>\n",
       "      <td>1973-10-18</td>\n",
       "      <td>4.0</td>\n",
       "      <td>according to a providence journal article, ama...</td>\n",
       "      <td>4</td>\n",
       "    </tr>\n",
       "    <tr>\n",
       "      <th>44012</th>\n",
       "      <td>1700703</td>\n",
       "      <td>noelias cheats crocante fleisch zitumbuwa</td>\n",
       "      <td>1.0</td>\n",
       "      <td>30228</td>\n",
       "      <td>2007-07-01</td>\n",
       "      <td>6.0</td>\n",
       "      <td>if possible sauté the onions and garlic in abo...</td>\n",
       "      <td>1</td>\n",
       "    </tr>\n",
       "    <tr>\n",
       "      <th>44013</th>\n",
       "      <td>1910650</td>\n",
       "      <td>rubbed restuffed pelmeni bedouin flavourful</td>\n",
       "      <td>60.0</td>\n",
       "      <td>591905</td>\n",
       "      <td>2009-09-26</td>\n",
       "      <td>3.0</td>\n",
       "      <td>another great recipe to add to the growing swe...</td>\n",
       "      <td>2</td>\n",
       "    </tr>\n",
       "    <tr>\n",
       "      <th>44014</th>\n",
       "      <td>713836</td>\n",
       "      <td>stems polpettine peezi</td>\n",
       "      <td>NaN</td>\n",
       "      <td>357389</td>\n",
       "      <td>2003-09-30</td>\n",
       "      <td>4.0</td>\n",
       "      <td>adapted from top secret recipes. love this!</td>\n",
       "      <td>9</td>\n",
       "    </tr>\n",
       "    <tr>\n",
       "      <th>44015</th>\n",
       "      <td>660699</td>\n",
       "      <td>clementines</td>\n",
       "      <td>64.0</td>\n",
       "      <td>29196</td>\n",
       "      <td>1973-06-03</td>\n",
       "      <td>6.0</td>\n",
       "      <td>this would make a great start to your holiday ...</td>\n",
       "      <td>8</td>\n",
       "    </tr>\n",
       "  </tbody>\n",
       "</table>\n",
       "</div>"
      ],
      "text/plain": [
       "            id                                         name  minutes  \\\n",
       "44011  1029131              tuti waffle snackies steakhouse     19.0   \n",
       "44012  1700703    noelias cheats crocante fleisch zitumbuwa      1.0   \n",
       "44013  1910650  rubbed restuffed pelmeni bedouin flavourful     60.0   \n",
       "44014   713836                       stems polpettine peezi      NaN   \n",
       "44015   660699                                  clementines     64.0   \n",
       "\n",
       "       contributor_id  submitted  n_steps  \\\n",
       "44011          171345 1973-10-18      4.0   \n",
       "44012           30228 2007-07-01      6.0   \n",
       "44013          591905 2009-09-26      3.0   \n",
       "44014          357389 2003-09-30      4.0   \n",
       "44015           29196 1973-06-03      6.0   \n",
       "\n",
       "                                             description  n_ingredients  \n",
       "44011  according to a providence journal article, ama...              4  \n",
       "44012  if possible sauté the onions and garlic in abo...              1  \n",
       "44013  another great recipe to add to the growing swe...              2  \n",
       "44014        adapted from top secret recipes. love this!              9  \n",
       "44015  this would make a great start to your holiday ...              8  "
      ]
     },
     "execution_count": 26,
     "metadata": {},
     "output_type": "execute_result"
    }
   ],
   "source": [
    "recipes.tail(5)"
   ]
  },
  {
   "cell_type": "code",
   "execution_count": 3,
   "metadata": {},
   "outputs": [
    {
     "name": "stdout",
     "output_type": "stream",
     "text": [
      "Привезенцев Семен\n"
     ]
    }
   ],
   "source": [
    "print(\"Привезенцев Семен\")"
   ]
  },
  {
   "cell_type": "markdown",
   "metadata": {},
   "source": [
    "4. Посчитайте, сколько строк содержит каждый из блоков"
   ]
  },
  {
   "cell_type": "code",
   "execution_count": 27,
   "metadata": {},
   "outputs": [
    {
     "name": "stdout",
     "output_type": "stream",
     "text": [
      "0     237505\n",
      "1      41450\n",
      "2     235222\n",
      "3      43733\n",
      "4     238139\n",
      "5      40816\n",
      "6     234750\n",
      "7      44205\n",
      "8     237887\n",
      "9      41068\n",
      "10    234486\n",
      "11     44468\n",
      "12    238298\n",
      "13     40656\n",
      "14    234938\n",
      "15     44016\n",
      "dtype: int64\n"
     ]
    }
   ],
   "source": [
    "nrows = recipes.map_partitions(len).compute()\n",
    "print(nrows)"
   ]
  },
  {
   "cell_type": "code",
   "execution_count": 4,
   "metadata": {},
   "outputs": [
    {
     "name": "stdout",
     "output_type": "stream",
     "text": [
      "Привезенцев Семен\n"
     ]
    }
   ],
   "source": [
    "print(\"Привезенцев Семен\")"
   ]
  },
  {
   "cell_type": "markdown",
   "metadata": {},
   "source": [
    "5. Найдите максимум в столбце `n_steps`. Визуализируйте граф вычислений для этой задачи. Прокомментируйте логику работы `dask` в этом случае."
   ]
  },
  {
   "cell_type": "code",
   "execution_count": 28,
   "metadata": {},
   "outputs": [
    {
     "name": "stdout",
     "output_type": "stream",
     "text": [
      "145.0\n"
     ]
    }
   ],
   "source": [
    "max_n_steps = recipes['n_steps'].max().compute()\n",
    "print(max_n_steps)"
   ]
  },
  {
   "cell_type": "code",
   "execution_count": 5,
   "metadata": {},
   "outputs": [
    {
     "name": "stdout",
     "output_type": "stream",
     "text": [
      "Привезенцев Семен\n"
     ]
    }
   ],
   "source": [
    "print(\"Привезенцев Семен\")"
   ]
  },
  {
   "cell_type": "code",
   "execution_count": 29,
   "metadata": {},
   "outputs": [
    {
     "data": {
      "image/png": "[encoded data removed]",
      "text/plain": [
       "<IPython.core.display.Image object>"
      ]
     },
     "execution_count": 29,
     "metadata": {},
     "output_type": "execute_result"
    }
   ],
   "source": [
    "recipes['n_steps'].max().visualize()"
   ]
  },
  {
   "cell_type": "code",
   "execution_count": 6,
   "metadata": {},
   "outputs": [
    {
     "name": "stdout",
     "output_type": "stream",
     "text": [
      "Привезенцев Семен\n"
     ]
    }
   ],
   "source": [
    "print(\"Привезенцев Семен\")"
   ]
  },
  {
   "cell_type": "markdown",
   "metadata": {},
   "source": [
    "6. Посчитайте количество отзывов с группировкой по месяцам добавления отзыва в базу."
   ]
  },
  {
   "cell_type": "code",
   "execution_count": 32,
   "metadata": {},
   "outputs": [],
   "source": [
    "recipes['month'] = recipes['submitted'].dt.strftime('%m')\n",
    "count_by_only_month = recipes.groupby('month')['id'].count().compute()"
   ]
  },
  {
   "cell_type": "code",
   "execution_count": 33,
   "metadata": {},
   "outputs": [
    {
     "data": {
      "text/plain": [
       "month\n",
       "01    193363\n",
       "02    173834\n",
       "03    192389\n",
       "04    186049\n",
       "05    192487\n",
       "06    184205\n",
       "07    189337\n",
       "08    187276\n",
       "09    181081\n",
       "10    187018\n",
       "11    180974\n",
       "12    183624\n",
       "Name: id, dtype: int64"
      ]
     },
     "execution_count": 33,
     "metadata": {},
     "output_type": "execute_result"
    }
   ],
   "source": [
    "count_by_only_month"
   ]
  },
  {
   "cell_type": "code",
   "execution_count": 7,
   "metadata": {},
   "outputs": [
    {
     "name": "stdout",
     "output_type": "stream",
     "text": [
      "Привезенцев Семен\n"
     ]
    }
   ],
   "source": [
    "print(\"Привезенцев Семен\")"
   ]
  },
  {
   "cell_type": "markdown",
   "metadata": {},
   "source": [
    "7. Считайте файлы из архива `reviews_full.zip` (__ЛР12__) в виде `dask.bag`. Пользуясь результатом лабораторной работы 12, рассчитайте среднее значение оценок отзывов с группировкой по месяцам. После завершения всех вычислений преобразуйте результат к `pd.Series`."
   ]
  },
  {
   "cell_type": "code",
   "execution_count": 51,
   "metadata": {},
   "outputs": [],
   "source": [
    "def rating_append(x):\n",
    "    x_return = json.loads(x[0])\n",
    "    x_return[\"rating\"] = int(x[1][-6])\n",
    "    return x_return"
   ]
  },
  {
   "cell_type": "code",
   "execution_count": 52,
   "metadata": {},
   "outputs": [
    {
     "data": {
      "text/plain": [
       "({'user_id': 452355,\n",
       "  'recipe_id': 292657,\n",
       "  'date': '2016-05-08',\n",
       "  'review': 'WOW!!! This is the best. I have never been able to make homemade enchiladas that taste like the Mexican restaurants. I made this last night for my family and they said they will never have enchiladas at the Mexican Restaurants again. Thanks for sharing.',\n",
       "  'rating': 0},\n",
       " {'user_id': 329304,\n",
       "  'recipe_id': 433404,\n",
       "  'date': '2006-06-14',\n",
       "  'review': 'This was good but the dressing needed something and I found it to be a little too sweet, next time I will experiment with some garlic and herbs and reduce the sugar slightly, thanks for sharing kcdlong!...Kitten',\n",
       "  'rating': 0})"
      ]
     },
     "execution_count": 52,
     "metadata": {},
     "output_type": "execute_result"
    }
   ],
   "source": [
    "dask_bag = db.read_text('12_map_reduce/reviews_full/*.json', include_path=True).map(rating_append)\n",
    "dask_bag.take(2)"
   ]
  },
  {
   "cell_type": "code",
   "execution_count": 8,
   "metadata": {},
   "outputs": [
    {
     "name": "stdout",
     "output_type": "stream",
     "text": [
      "Привезенцев Семен\n"
     ]
    }
   ],
   "source": [
    "print(\"Привезенцев Семен\")"
   ]
  },
  {
   "cell_type": "code",
   "execution_count": 53,
   "metadata": {},
   "outputs": [],
   "source": [
    "def average_by_month(dask_bag):\n",
    "    mas_rating =[0]*12\n",
    "    for i in range(1, 13):\n",
    "        db_func = dask_bag.filter(lambda record: int(record['date'][5:7]) == i).pluck('rating').mean().compute()\n",
    "        mas_rating[i - 1] = db_func\n",
    "    return mas_rating"
   ]
  },
  {
   "cell_type": "code",
   "execution_count": 54,
   "metadata": {},
   "outputs": [
    {
     "name": "stdout",
     "output_type": "stream",
     "text": [
      "Месяц: 1 Рейтинг: 1.2805714028006403\n",
      "Месяц: 2 Рейтинг: 1.2685545781438579\n",
      "Месяц: 3 Рейтинг: 1.2648264182895852\n",
      "Месяц: 4 Рейтинг: 1.2734396077465366\n",
      "Месяц: 5 Рейтинг: 1.2773517732438724\n",
      "Месяц: 6 Рейтинг: 1.2600783096242065\n",
      "Месяц: 7 Рейтинг: 1.2677940213833734\n",
      "Месяц: 8 Рейтинг: 1.2682479012459729\n",
      "Месяц: 9 Рейтинг: 1.2782795911801825\n",
      "Месяц: 10 Рейтинг: 1.2778239202657806\n",
      "Месяц: 11 Рейтинг: 1.2673920928545521\n",
      "Месяц: 12 Рейтинг: 1.2655113813713137\n"
     ]
    }
   ],
   "source": [
    "rating_by_month = average_by_month(dask_bag)\n",
    "for num, rating in enumerate(rating_by_month):\n",
    "    print(\"Месяц:\", num + 1, \"Рейтинг:\", rating)"
   ]
  },
  {
   "cell_type": "code",
   "execution_count": 9,
   "metadata": {},
   "outputs": [
    {
     "name": "stdout",
     "output_type": "stream",
     "text": [
      "Привезенцев Семен\n"
     ]
    }
   ],
   "source": [
    "print(\"Привезенцев Семен\")"
   ]
  },
  {
   "cell_type": "markdown",
   "metadata": {},
   "source": [
    "8. Пользуясь результатами решения задач 6 и 7, создайте `pd.DataFrame`, содержащий два столбца: `mean_rating`, `recipes_count`"
   ]
  },
  {
   "cell_type": "code",
   "execution_count": 56,
   "metadata": {},
   "outputs": [
    {
     "data": {
      "text/html": [
       "<div>\n",
       "<style scoped>\n",
       "    .dataframe tbody tr th:only-of-type {\n",
       "        vertical-align: middle;\n",
       "    }\n",
       "\n",
       "    .dataframe tbody tr th {\n",
       "        vertical-align: top;\n",
       "    }\n",
       "\n",
       "    .dataframe thead th {\n",
       "        text-align: right;\n",
       "    }\n",
       "</style>\n",
       "<table border=\"1\" class=\"dataframe\">\n",
       "  <thead>\n",
       "    <tr style=\"text-align: right;\">\n",
       "      <th></th>\n",
       "      <th>mean_rating</th>\n",
       "      <th>recipes_count</th>\n",
       "    </tr>\n",
       "  </thead>\n",
       "  <tbody>\n",
       "    <tr>\n",
       "      <th>1</th>\n",
       "      <td>1.280571</td>\n",
       "      <td>193363</td>\n",
       "    </tr>\n",
       "    <tr>\n",
       "      <th>2</th>\n",
       "      <td>1.268555</td>\n",
       "      <td>173834</td>\n",
       "    </tr>\n",
       "    <tr>\n",
       "      <th>3</th>\n",
       "      <td>1.264826</td>\n",
       "      <td>192389</td>\n",
       "    </tr>\n",
       "    <tr>\n",
       "      <th>4</th>\n",
       "      <td>1.273440</td>\n",
       "      <td>186049</td>\n",
       "    </tr>\n",
       "    <tr>\n",
       "      <th>5</th>\n",
       "      <td>1.277352</td>\n",
       "      <td>192487</td>\n",
       "    </tr>\n",
       "    <tr>\n",
       "      <th>6</th>\n",
       "      <td>1.260078</td>\n",
       "      <td>184205</td>\n",
       "    </tr>\n",
       "    <tr>\n",
       "      <th>7</th>\n",
       "      <td>1.267794</td>\n",
       "      <td>189337</td>\n",
       "    </tr>\n",
       "    <tr>\n",
       "      <th>8</th>\n",
       "      <td>1.268248</td>\n",
       "      <td>187276</td>\n",
       "    </tr>\n",
       "    <tr>\n",
       "      <th>9</th>\n",
       "      <td>1.278280</td>\n",
       "      <td>181081</td>\n",
       "    </tr>\n",
       "    <tr>\n",
       "      <th>10</th>\n",
       "      <td>1.277824</td>\n",
       "      <td>187018</td>\n",
       "    </tr>\n",
       "    <tr>\n",
       "      <th>11</th>\n",
       "      <td>1.267392</td>\n",
       "      <td>180974</td>\n",
       "    </tr>\n",
       "    <tr>\n",
       "      <th>12</th>\n",
       "      <td>1.265511</td>\n",
       "      <td>183624</td>\n",
       "    </tr>\n",
       "  </tbody>\n",
       "</table>\n",
       "</div>"
      ],
      "text/plain": [
       "    mean_rating  recipes_count\n",
       "1      1.280571         193363\n",
       "2      1.268555         173834\n",
       "3      1.264826         192389\n",
       "4      1.273440         186049\n",
       "5      1.277352         192487\n",
       "6      1.260078         184205\n",
       "7      1.267794         189337\n",
       "8      1.268248         187276\n",
       "9      1.278280         181081\n",
       "10     1.277824         187018\n",
       "11     1.267392         180974\n",
       "12     1.265511         183624"
      ]
     },
     "execution_count": 56,
     "metadata": {},
     "output_type": "execute_result"
    }
   ],
   "source": [
    "dataframe = pd.DataFrame({\"mean_rating\": rating_by_month, \"recipes_count\": list(count_by_only_month), })\n",
    "dataframe.index += 1\n",
    "dataframe"
   ]
  },
  {
   "cell_type": "code",
   "execution_count": 10,
   "metadata": {},
   "outputs": [
    {
     "name": "stdout",
     "output_type": "stream",
     "text": [
      "Привезенцев Семен\n"
     ]
    }
   ],
   "source": [
    "print(\"Привезенцев Семен\")"
   ]
  },
  {
   "cell_type": "code",
   "execution_count": null,
   "metadata": {},
   "outputs": [],
   "source": []
  }
 ],
 "metadata": {
  "kernelspec": {
   "display_name": "Python 3 (ipykernel)",
   "language": "python",
   "name": "python3"
  },
  "language_info": {
   "codemirror_mode": {
    "name": "ipython",
    "version": 3
   },
   "file_extension": ".py",
   "mimetype": "text/x-python",
   "name": "python",
   "nbconvert_exporter": "python",
   "pygments_lexer": "ipython3",
   "version": "3.9.12"
  }
 },
 "nbformat": 4,
 "nbformat_minor": 4
}
