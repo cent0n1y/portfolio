{
 "cells": [
  {
   "cell_type": "markdown",
   "metadata": {},
   "source": [
    "# Работа с базами данных"
   ]
  },
  {
   "cell_type": "markdown",
   "metadata": {},
   "source": [
    "Материалы:\n",
    "* Макрушин С.В. Лекция 6: Работа с базами данных\n",
    "* https://sqliteonline.com/\n",
    "* https://docs.python.org/3/library/sqlite3.html\n",
    "* https://www.geeksforgeeks.org/sql-join-set-1-inner-left-right-and-full-joins/\n",
    "* https://www.datacamp.com/community/tutorials/group-by-having-clause-sql"
   ]
  },
  {
   "cell_type": "markdown",
   "metadata": {},
   "source": [
    "## Задачи для совместного разбора"
   ]
  },
  {
   "cell_type": "markdown",
   "metadata": {},
   "source": [
    "1. Работая с базой данных `Chinook_Sqlite.sqlite`, найдите и выведите на экран имена и фамилии всех заказчиков из Канады"
   ]
  },
  {
   "cell_type": "code",
   "execution_count": 13,
   "metadata": {},
   "outputs": [
    {
     "data": {
      "text/plain": [
       "'2.0'"
      ]
     },
     "execution_count": 13,
     "metadata": {},
     "output_type": "execute_result"
    }
   ],
   "source": [
    "import sqlite3 \n",
    "sqlite3.apilevel"
   ]
  },
  {
   "cell_type": "code",
   "execution_count": 18,
   "metadata": {},
   "outputs": [
    {
     "name": "stdout",
     "output_type": "stream",
     "text": [
      "Album\n",
      "Artist\n",
      "Customer\n",
      "Employee\n",
      "Genre\n",
      "Invoice\n",
      "InvoiceLine\n",
      "MediaType\n",
      "Playlist\n",
      "PlaylistTrack\n",
      "Track\n",
      "Привезенцев Семён\n"
     ]
    }
   ],
   "source": [
    "con_chinook = sqlite3.connect(\"Chinook_Sqlite.sqlite\") #подключение к бд\n",
    "cursor_chinook = con_chinook.cursor() #создаем объект курсор\n",
    "cursor_chinook.execute(\"SELECT name FROM sqlite_master WHERE type='table';\") #получаем название таблиц\n",
    "for table in cursor_chinook:\n",
    "    print(table[0])\n",
    "print('Привезенцев Семён')"
   ]
  },
  {
   "cell_type": "code",
   "execution_count": 23,
   "metadata": {},
   "outputs": [
    {
     "name": "stdout",
     "output_type": "stream",
     "text": [
      "CustomerId\n",
      "FirstName\n",
      "LastName\n",
      "Company\n",
      "Address\n",
      "City\n",
      "State\n",
      "Country\n",
      "PostalCode\n",
      "Phone\n",
      "Fax\n",
      "Email\n",
      "SupportRepId\n",
      "Привезенцев Семён\n"
     ]
    }
   ],
   "source": [
    "cursor_chinook.execute(\"select * from Customer;\")\n",
    "for customer_col in cursor_chinook.description: #получаем названия колонок нужной таблицы\n",
    "    print(customer_col[0])\n",
    "print('Привезенцев Семён')"
   ]
  },
  {
   "cell_type": "code",
   "execution_count": 22,
   "metadata": {},
   "outputs": [
    {
     "name": "stdout",
     "output_type": "stream",
     "text": [
      "François Tremblay\n",
      "Mark Philips\n",
      "Jennifer Peterson\n",
      "Robert Brown\n",
      "Edward Francis\n",
      "Martha Silk\n",
      "Aaron Mitchell\n",
      "Ellie Sullivan\n",
      "Привезенцев Семён\n"
     ]
    }
   ],
   "source": [
    "cursor_chinook.execute(\"select FirstName, LastName from Customer where Country='Canada';\")\n",
    "for customer in cursor_chinook:\n",
    "    print(customer[0] + \" \" + customer[1])\n",
    "print('Привезенцев Семён')"
   ]
  },
  {
   "cell_type": "markdown",
   "metadata": {},
   "source": [
    "2. Найти и вывести на экран названия всех альбомов группы Accept"
   ]
  },
  {
   "cell_type": "code",
   "execution_count": 24,
   "metadata": {},
   "outputs": [
    {
     "name": "stdout",
     "output_type": "stream",
     "text": [
      "ArtistId\n",
      "Name\n"
     ]
    }
   ],
   "source": [
    "cursor_chinook.execute(\"select * from artist;\") #получаем имена столбцов из таблицы\n",
    "for album_col in cursor_chinook.description:\n",
    "    print(album_col[0])\n",
    "print('Привезенцев Семён')"
   ]
  },
  {
   "cell_type": "code",
   "execution_count": 25,
   "metadata": {},
   "outputs": [
    {
     "name": "stdout",
     "output_type": "stream",
     "text": [
      "AlbumId\n",
      "Title\n",
      "ArtistId\n",
      "Привезенцев Семён\n"
     ]
    }
   ],
   "source": [
    "cursor_chinook.execute(\"select * from Album;\") #получаем имена столбцов из таблицы\n",
    "for album_col in cursor_chinook.description:\n",
    "    print(album_col[0])\n",
    "print('Привезенцев Семён')"
   ]
  },
  {
   "cell_type": "code",
   "execution_count": 26,
   "metadata": {},
   "outputs": [
    {
     "name": "stdout",
     "output_type": "stream",
     "text": [
      "Balls to the Wall\n",
      "Restless and Wild\n",
      "Привезенцев Семён\n"
     ]
    }
   ],
   "source": [
    "cursor_chinook.execute(\"select title from Album join Artist on Album.ArtistId = Artist.ArtistId \\\n",
    "where Artist.Name = 'Accept';\")\n",
    "for title in cursor_chinook:\n",
    "    print(title[0])\n",
    "print('Привезенцев Семён')"
   ]
  },
  {
   "cell_type": "markdown",
   "metadata": {},
   "source": [
    "3. Создайте базу данных с названием вашей группы. В этой базе данных создайте таблицу Student, содержащую 2 столбца: id и name. Добавьте в таблицу Student информацию о студентах, сидящих с вами по соседству."
   ]
  },
  {
   "cell_type": "code",
   "execution_count": 34,
   "metadata": {},
   "outputs": [
    {
     "name": "stdout",
     "output_type": "stream",
     "text": [
      "Привезенцев Семён\n"
     ]
    }
   ],
   "source": [
    "pi21_3_group = sqlite3.connect(\"pi21_3_group.sqlite\") #создаем файл бд и подключаемся к нему\n",
    "sql_create = \"\"\"\n",
    "CREATE TABLE Parni (\n",
    "    Id INTEGER PRIMARY KEY AUTOINCREMENT NOT NULL,\n",
    "    Name VARCHAR(200)  NOT NULL\n",
    ");\"\"\"\n",
    "cursor_pi21_3_group = pi21_3_group.cursor() #создаем курсор\n",
    "cursor_pi21_3_group.executescript(sql_create) #выполняем скрипт и создаем таблицу\n",
    "print('Привезенцев Семён')"
   ]
  },
  {
   "cell_type": "code",
   "execution_count": 35,
   "metadata": {},
   "outputs": [
    {
     "name": "stdout",
     "output_type": "stream",
     "text": [
      "Привезенцев Семён\n"
     ]
    }
   ],
   "source": [
    "sql_insert = \"\"\"\n",
    "INSERT INTO Parni VALUES (1, 'Андрей');\n",
    "\"\"\"\n",
    "cursor_pi21_3_group.executescript(sql_insert)\n",
    "sql_insert = \"\"\"\n",
    "INSERT INTO Parni VALUES (2, 'Кирюша');\n",
    "\"\"\"\n",
    "cursor_pi21_3_group.executescript(sql_insert)\n",
    "sql_insert = \"\"\"\n",
    "INSERT INTO Parni VALUES (3, 'Артем');\n",
    "\"\"\"\n",
    "cursor_pi21_3_group.executescript(sql_insert)\n",
    "print('Привезенцев Семён')"
   ]
  },
  {
   "cell_type": "code",
   "execution_count": 36,
   "metadata": {},
   "outputs": [
    {
     "name": "stdout",
     "output_type": "stream",
     "text": [
      "(1, 'Андрей')\n",
      "(2, 'Кирюша')\n",
      "(3, 'Артем')\n",
      "Привезенцев Семён\n"
     ]
    }
   ],
   "source": [
    "cursor_pi21_3_group.execute(\"SELECT * FROM Parni;\")\n",
    "for student in cursor_pi21_3_group:\n",
    "    print(student)\n",
    "print('Привезенцев Семён')"
   ]
  },
  {
   "cell_type": "markdown",
   "metadata": {},
   "source": [
    "## Лабораторная работа 6"
   ]
  },
  {
   "cell_type": "markdown",
   "metadata": {},
   "source": [
    "1. Создайте файл базы данных c названием `recipes.db`. Создайте объект-курсор. "
   ]
  },
  {
   "cell_type": "code",
   "execution_count": 78,
   "metadata": {},
   "outputs": [],
   "source": [
    "con = sqlite3.connect(\"recipes.db\") # Открьrnаем базу данных \n",
    "cur = con.cursor()\n",
    "\n"
   ]
  },
  {
   "cell_type": "markdown",
   "metadata": {},
   "source": [
    "2. Напишите и выполните SQL-запрос для создания таблицы рецептов `Recipe`. Таблица должна содержать следующие поля:\n",
    "`id`, `name`, `minutes`, `submitted`, `description`, `n_ingredients`. Определитесь с типами и составом ключевых полей."
   ]
  },
  {
   "cell_type": "code",
   "execution_count": 79,
   "metadata": {},
   "outputs": [
    {
     "ename": "OperationalError",
     "evalue": "table Recipesss already exists",
     "output_type": "error",
     "traceback": [
      "\u001b[0;31m---------------------------------------------------------------------------\u001b[0m",
      "\u001b[0;31mOperationalError\u001b[0m                          Traceback (most recent call last)",
      "Input \u001b[0;32mIn [79]\u001b[0m, in \u001b[0;36m<cell line: 11>\u001b[0;34m()\u001b[0m\n\u001b[1;32m      1\u001b[0m sql\u001b[38;5;241m=\u001b[39m\u001b[38;5;124m\"\"\"\u001b[39m\n\u001b[1;32m      2\u001b[0m \u001b[38;5;124mCREATE TABLE Recipesss (\u001b[39m\n\u001b[1;32m      3\u001b[0m \u001b[38;5;124m    id INTEGER PRIMARY KEY NOT NULL,\u001b[39m\n\u001b[0;32m   (...)\u001b[0m\n\u001b[1;32m      9\u001b[0m \u001b[38;5;124m)\u001b[39m\n\u001b[1;32m     10\u001b[0m \u001b[38;5;124m\"\"\"\u001b[39m\n\u001b[0;32m---> 11\u001b[0m \u001b[43mcur\u001b[49m\u001b[38;5;241;43m.\u001b[39;49m\u001b[43mexecute\u001b[49m\u001b[43m(\u001b[49m\u001b[43msql\u001b[49m\u001b[43m)\u001b[49m\n",
      "\u001b[0;31mOperationalError\u001b[0m: table Recipesss already exists"
     ]
    }
   ],
   "source": [
    "sql=\"\"\"\n",
    "CREATE TABLE Recipesss (\n",
    "    id INTEGER PRIMARY KEY NOT NULL,\n",
    "    name VARCHAR(200),\n",
    "    minutes INTEGER,\n",
    "    submitted DATE,\n",
    "    description VARCHAR(1000),\n",
    "    n_ingredients INTEGER\n",
    ")\n",
    "\"\"\"\n"
   ]
  },
  {
   "cell_type": "code",
   "execution_count": 80,
   "metadata": {},
   "outputs": [
    {
     "ename": "OperationalError",
     "evalue": "table Recipesss already exists",
     "output_type": "error",
     "traceback": [
      "\u001b[0;31m---------------------------------------------------------------------------\u001b[0m",
      "\u001b[0;31mOperationalError\u001b[0m                          Traceback (most recent call last)",
      "Input \u001b[0;32mIn [80]\u001b[0m, in \u001b[0;36m<cell line: 1>\u001b[0;34m()\u001b[0m\n\u001b[0;32m----> 1\u001b[0m \u001b[43mcur\u001b[49m\u001b[38;5;241;43m.\u001b[39;49m\u001b[43mexecute\u001b[49m\u001b[43m(\u001b[49m\u001b[43msql\u001b[49m\u001b[43m)\u001b[49m\n",
      "\u001b[0;31mOperationalError\u001b[0m: table Recipesss already exists"
     ]
    }
   ],
   "source": [
    "cur.execute(sql)"
   ]
  },
  {
   "cell_type": "markdown",
   "metadata": {},
   "source": [
    "3. Напишите и выполните SQL-запрос для создания таблицы отзывов `Review`. Таблица должна содержать следующие поля:\n",
    "`id`, `user_id`, `recipe_id`, `date`, `rating`, `review`. Определитесь с типами полей, набором ключевых полей. При помощи внешнего ключа соедините две таблицы."
   ]
  },
  {
   "cell_type": "code",
   "execution_count": 42,
   "metadata": {},
   "outputs": [
    {
     "data": {
      "text/plain": [
       "<sqlite3.Cursor at 0x7fbdac986ce0>"
      ]
     },
     "execution_count": 42,
     "metadata": {},
     "output_type": "execute_result"
    }
   ],
   "source": [
    "sql2=\"\"\"\n",
    "create table Revieww (id int not null, user_id int not null, recipe_id int not null,\n",
    "date date, rating varchar(10), review varchar(100), primary key(id), foreign key (recipe_id) references Recipes(id));\n",
    "\"\"\"\n",
    "cur.execute(sql2)"
   ]
  },
  {
   "cell_type": "markdown",
   "metadata": {},
   "source": [
    "4. Загрузите данные из файлов `reviews_sample.csv` (__ЛР2__) и `recipes_sample_with_tags_ingredients.csv` (__ЛР5__) в созданные таблицы"
   ]
  },
  {
   "cell_type": "code",
   "execution_count": 37,
   "metadata": {},
   "outputs": [
    {
     "data": {
      "text/html": [
       "<div>\n",
       "<style scoped>\n",
       "    .dataframe tbody tr th:only-of-type {\n",
       "        vertical-align: middle;\n",
       "    }\n",
       "\n",
       "    .dataframe tbody tr th {\n",
       "        vertical-align: top;\n",
       "    }\n",
       "\n",
       "    .dataframe thead th {\n",
       "        text-align: right;\n",
       "    }\n",
       "</style>\n",
       "<table border=\"1\" class=\"dataframe\">\n",
       "  <thead>\n",
       "    <tr style=\"text-align: right;\">\n",
       "      <th></th>\n",
       "      <th>id</th>\n",
       "      <th>name</th>\n",
       "      <th>minutes</th>\n",
       "      <th>submitted</th>\n",
       "      <th>description</th>\n",
       "      <th>n_ingredients</th>\n",
       "    </tr>\n",
       "  </thead>\n",
       "  <tbody>\n",
       "    <tr>\n",
       "      <th>0</th>\n",
       "      <td>44123</td>\n",
       "      <td>george s at the cove  black bean soup</td>\n",
       "      <td>90</td>\n",
       "      <td>2002-10-25</td>\n",
       "      <td>an original recipe created by chef scott meska...</td>\n",
       "      <td>18.0</td>\n",
       "    </tr>\n",
       "    <tr>\n",
       "      <th>1</th>\n",
       "      <td>67664</td>\n",
       "      <td>healthy for them  yogurt popsicles</td>\n",
       "      <td>10</td>\n",
       "      <td>2003-07-26</td>\n",
       "      <td>my children and their friends ask for my homem...</td>\n",
       "      <td>NaN</td>\n",
       "    </tr>\n",
       "    <tr>\n",
       "      <th>2</th>\n",
       "      <td>38798</td>\n",
       "      <td>i can t believe it s spinach</td>\n",
       "      <td>30</td>\n",
       "      <td>2002-08-29</td>\n",
       "      <td>these were so go, it surprised even me.</td>\n",
       "      <td>8.0</td>\n",
       "    </tr>\n",
       "    <tr>\n",
       "      <th>3</th>\n",
       "      <td>35173</td>\n",
       "      <td>italian  gut busters</td>\n",
       "      <td>45</td>\n",
       "      <td>2002-07-27</td>\n",
       "      <td>my sister-in-law made these for us at a family...</td>\n",
       "      <td>NaN</td>\n",
       "    </tr>\n",
       "    <tr>\n",
       "      <th>4</th>\n",
       "      <td>84797</td>\n",
       "      <td>love is in the air  beef fondue   sauces</td>\n",
       "      <td>25</td>\n",
       "      <td>2004-02-23</td>\n",
       "      <td>i think a fondue is a very romantic casual din...</td>\n",
       "      <td>NaN</td>\n",
       "    </tr>\n",
       "    <tr>\n",
       "      <th>...</th>\n",
       "      <td>...</td>\n",
       "      <td>...</td>\n",
       "      <td>...</td>\n",
       "      <td>...</td>\n",
       "      <td>...</td>\n",
       "      <td>...</td>\n",
       "    </tr>\n",
       "    <tr>\n",
       "      <th>29995</th>\n",
       "      <td>267661</td>\n",
       "      <td>zurie s holey rustic olive and cheddar bread</td>\n",
       "      <td>80</td>\n",
       "      <td>2007-11-25</td>\n",
       "      <td>this is based on a french recipe but i changed...</td>\n",
       "      <td>10.0</td>\n",
       "    </tr>\n",
       "    <tr>\n",
       "      <th>29996</th>\n",
       "      <td>386977</td>\n",
       "      <td>zwetschgenkuchen  bavarian plum cake</td>\n",
       "      <td>240</td>\n",
       "      <td>2009-08-24</td>\n",
       "      <td>this is a traditional fresh plum cake, thought...</td>\n",
       "      <td>11.0</td>\n",
       "    </tr>\n",
       "    <tr>\n",
       "      <th>29997</th>\n",
       "      <td>103312</td>\n",
       "      <td>zwiebelkuchen   southwest german onion cake</td>\n",
       "      <td>75</td>\n",
       "      <td>2004-11-03</td>\n",
       "      <td>this is a traditional late summer early fall s...</td>\n",
       "      <td>NaN</td>\n",
       "    </tr>\n",
       "    <tr>\n",
       "      <th>29998</th>\n",
       "      <td>486161</td>\n",
       "      <td>zydeco soup</td>\n",
       "      <td>60</td>\n",
       "      <td>2012-08-29</td>\n",
       "      <td>this is a delicious soup that i originally fou...</td>\n",
       "      <td>NaN</td>\n",
       "    </tr>\n",
       "    <tr>\n",
       "      <th>29999</th>\n",
       "      <td>298512</td>\n",
       "      <td>cookies by design   cookies on a stick</td>\n",
       "      <td>29</td>\n",
       "      <td>2008-04-15</td>\n",
       "      <td>i've heard of the 'cookies by design' company,...</td>\n",
       "      <td>10.0</td>\n",
       "    </tr>\n",
       "  </tbody>\n",
       "</table>\n",
       "<p>30000 rows × 6 columns</p>\n",
       "</div>"
      ],
      "text/plain": [
       "           id                                          name  minutes  \\\n",
       "0       44123         george s at the cove  black bean soup       90   \n",
       "1       67664            healthy for them  yogurt popsicles       10   \n",
       "2       38798                  i can t believe it s spinach       30   \n",
       "3       35173                          italian  gut busters       45   \n",
       "4       84797      love is in the air  beef fondue   sauces       25   \n",
       "...       ...                                           ...      ...   \n",
       "29995  267661  zurie s holey rustic olive and cheddar bread       80   \n",
       "29996  386977          zwetschgenkuchen  bavarian plum cake      240   \n",
       "29997  103312   zwiebelkuchen   southwest german onion cake       75   \n",
       "29998  486161                                   zydeco soup       60   \n",
       "29999  298512        cookies by design   cookies on a stick       29   \n",
       "\n",
       "        submitted                                        description  \\\n",
       "0      2002-10-25  an original recipe created by chef scott meska...   \n",
       "1      2003-07-26  my children and their friends ask for my homem...   \n",
       "2      2002-08-29            these were so go, it surprised even me.   \n",
       "3      2002-07-27  my sister-in-law made these for us at a family...   \n",
       "4      2004-02-23  i think a fondue is a very romantic casual din...   \n",
       "...           ...                                                ...   \n",
       "29995  2007-11-25  this is based on a french recipe but i changed...   \n",
       "29996  2009-08-24  this is a traditional fresh plum cake, thought...   \n",
       "29997  2004-11-03  this is a traditional late summer early fall s...   \n",
       "29998  2012-08-29  this is a delicious soup that i originally fou...   \n",
       "29999  2008-04-15  i've heard of the 'cookies by design' company,...   \n",
       "\n",
       "       n_ingredients  \n",
       "0               18.0  \n",
       "1                NaN  \n",
       "2                8.0  \n",
       "3                NaN  \n",
       "4                NaN  \n",
       "...              ...  \n",
       "29995           10.0  \n",
       "29996           11.0  \n",
       "29997            NaN  \n",
       "29998            NaN  \n",
       "29999           10.0  \n",
       "\n",
       "[30000 rows x 6 columns]"
      ]
     },
     "metadata": {},
     "output_type": "display_data"
    },
    {
     "data": {
      "text/html": [
       "<div>\n",
       "<style scoped>\n",
       "    .dataframe tbody tr th:only-of-type {\n",
       "        vertical-align: middle;\n",
       "    }\n",
       "\n",
       "    .dataframe tbody tr th {\n",
       "        vertical-align: top;\n",
       "    }\n",
       "\n",
       "    .dataframe thead th {\n",
       "        text-align: right;\n",
       "    }\n",
       "</style>\n",
       "<table border=\"1\" class=\"dataframe\">\n",
       "  <thead>\n",
       "    <tr style=\"text-align: right;\">\n",
       "      <th></th>\n",
       "      <th>id</th>\n",
       "      <th>user_id</th>\n",
       "      <th>recipe_id</th>\n",
       "      <th>date</th>\n",
       "      <th>rating</th>\n",
       "      <th>review</th>\n",
       "    </tr>\n",
       "  </thead>\n",
       "  <tbody>\n",
       "    <tr>\n",
       "      <th>0</th>\n",
       "      <td>370476</td>\n",
       "      <td>21752</td>\n",
       "      <td>57993</td>\n",
       "      <td>2003-05-01</td>\n",
       "      <td>5</td>\n",
       "      <td>Last week whole sides of frozen salmon fillet ...</td>\n",
       "    </tr>\n",
       "    <tr>\n",
       "      <th>1</th>\n",
       "      <td>624300</td>\n",
       "      <td>431813</td>\n",
       "      <td>142201</td>\n",
       "      <td>2007-09-16</td>\n",
       "      <td>5</td>\n",
       "      <td>So simple and so tasty!  I used a yellow capsi...</td>\n",
       "    </tr>\n",
       "    <tr>\n",
       "      <th>2</th>\n",
       "      <td>187037</td>\n",
       "      <td>400708</td>\n",
       "      <td>252013</td>\n",
       "      <td>2008-01-10</td>\n",
       "      <td>4</td>\n",
       "      <td>Very nice breakfast HH, easy to make and yummy...</td>\n",
       "    </tr>\n",
       "    <tr>\n",
       "      <th>3</th>\n",
       "      <td>706134</td>\n",
       "      <td>2001852463</td>\n",
       "      <td>404716</td>\n",
       "      <td>2017-12-11</td>\n",
       "      <td>5</td>\n",
       "      <td>These are a favorite for the holidays and so e...</td>\n",
       "    </tr>\n",
       "    <tr>\n",
       "      <th>4</th>\n",
       "      <td>312179</td>\n",
       "      <td>95810</td>\n",
       "      <td>129396</td>\n",
       "      <td>2008-03-14</td>\n",
       "      <td>5</td>\n",
       "      <td>Excellent soup!  The tomato flavor is just gre...</td>\n",
       "    </tr>\n",
       "    <tr>\n",
       "      <th>...</th>\n",
       "      <td>...</td>\n",
       "      <td>...</td>\n",
       "      <td>...</td>\n",
       "      <td>...</td>\n",
       "      <td>...</td>\n",
       "      <td>...</td>\n",
       "    </tr>\n",
       "    <tr>\n",
       "      <th>126691</th>\n",
       "      <td>1013457</td>\n",
       "      <td>1270706</td>\n",
       "      <td>335534</td>\n",
       "      <td>2009-05-17</td>\n",
       "      <td>4</td>\n",
       "      <td>This recipe was great! I made it last night. I...</td>\n",
       "    </tr>\n",
       "    <tr>\n",
       "      <th>126692</th>\n",
       "      <td>158736</td>\n",
       "      <td>2282344</td>\n",
       "      <td>8701</td>\n",
       "      <td>2012-06-03</td>\n",
       "      <td>0</td>\n",
       "      <td>This recipe is outstanding. I followed the rec...</td>\n",
       "    </tr>\n",
       "    <tr>\n",
       "      <th>126693</th>\n",
       "      <td>1059834</td>\n",
       "      <td>689540</td>\n",
       "      <td>222001</td>\n",
       "      <td>2008-04-08</td>\n",
       "      <td>5</td>\n",
       "      <td>Well, we were not a crowd but it was a fabulou...</td>\n",
       "    </tr>\n",
       "    <tr>\n",
       "      <th>126694</th>\n",
       "      <td>453285</td>\n",
       "      <td>2000242659</td>\n",
       "      <td>354979</td>\n",
       "      <td>2015-06-02</td>\n",
       "      <td>5</td>\n",
       "      <td>I have been a steak eater and dedicated BBQ gr...</td>\n",
       "    </tr>\n",
       "    <tr>\n",
       "      <th>126695</th>\n",
       "      <td>691207</td>\n",
       "      <td>463435</td>\n",
       "      <td>415599</td>\n",
       "      <td>2010-09-30</td>\n",
       "      <td>5</td>\n",
       "      <td>Wonderful and simple to prepare seasoning blen...</td>\n",
       "    </tr>\n",
       "  </tbody>\n",
       "</table>\n",
       "<p>126696 rows × 6 columns</p>\n",
       "</div>"
      ],
      "text/plain": [
       "             id     user_id  recipe_id        date  rating  \\\n",
       "0        370476       21752      57993  2003-05-01       5   \n",
       "1        624300      431813     142201  2007-09-16       5   \n",
       "2        187037      400708     252013  2008-01-10       4   \n",
       "3        706134  2001852463     404716  2017-12-11       5   \n",
       "4        312179       95810     129396  2008-03-14       5   \n",
       "...         ...         ...        ...         ...     ...   \n",
       "126691  1013457     1270706     335534  2009-05-17       4   \n",
       "126692   158736     2282344       8701  2012-06-03       0   \n",
       "126693  1059834      689540     222001  2008-04-08       5   \n",
       "126694   453285  2000242659     354979  2015-06-02       5   \n",
       "126695   691207      463435     415599  2010-09-30       5   \n",
       "\n",
       "                                                   review  \n",
       "0       Last week whole sides of frozen salmon fillet ...  \n",
       "1       So simple and so tasty!  I used a yellow capsi...  \n",
       "2       Very nice breakfast HH, easy to make and yummy...  \n",
       "3       These are a favorite for the holidays and so e...  \n",
       "4       Excellent soup!  The tomato flavor is just gre...  \n",
       "...                                                   ...  \n",
       "126691  This recipe was great! I made it last night. I...  \n",
       "126692  This recipe is outstanding. I followed the rec...  \n",
       "126693  Well, we were not a crowd but it was a fabulou...  \n",
       "126694  I have been a steak eater and dedicated BBQ gr...  \n",
       "126695  Wonderful and simple to prepare seasoning blen...  \n",
       "\n",
       "[126696 rows x 6 columns]"
      ]
     },
     "metadata": {},
     "output_type": "display_data"
    }
   ],
   "source": [
    "import pandas as pd #посмотреть данные будущей таблицы и подгтовить к загрузке\n",
    "import csv\n",
    "recipe_df = pd.read_csv(\"recipes_sample.csv\", parse_dates=['submitted'])[['id', 'name', 'minutes', 'submitted', 'description', 'n_ingredients']]\n",
    "review_df = pd.read_csv(\"reviews_sample.csv\", parse_dates=['date'])[['Unnamed: 0', 'user_id', 'recipe_id', 'date', 'rating', 'review']]\n",
    "review_df = review_df.rename(columns={'Unnamed: 0': 'id'})\n",
    "recipe_df['submitted'] = pd.to_datetime(recipe_df['submitted']).dt.date\n",
    "review_df['date'] = pd.to_datetime(review_df['date']).dt.date\n",
    "display(recipe_df, review_df)"
   ]
  },
  {
   "cell_type": "code",
   "execution_count": 50,
   "metadata": {},
   "outputs": [
    {
     "data": {
      "text/plain": [
       "30000"
      ]
     },
     "execution_count": 50,
     "metadata": {},
     "output_type": "execute_result"
    }
   ],
   "source": [
    "recipe_df.to_sql('Recipesss',con , if_exists='append', index=False) #загрузка в таблицу Recipe"
   ]
  },
  {
   "cell_type": "code",
   "execution_count": 51,
   "metadata": {},
   "outputs": [
    {
     "data": {
      "text/plain": [
       "126696"
      ]
     },
     "execution_count": 51,
     "metadata": {},
     "output_type": "execute_result"
    }
   ],
   "source": [
    "review_df.to_sql('Revieww', con, if_exists='append', index=False) #загрузка в таблицу Review"
   ]
  },
  {
   "cell_type": "markdown",
   "metadata": {},
   "source": [
    "5. Найдите все рецепты, для выполнения которых нужно ровно 10 ингредиентов. Выведите на экран первые 5 из найденных рецептов."
   ]
  },
  {
   "cell_type": "code",
   "execution_count": 81,
   "metadata": {},
   "outputs": [
    {
     "name": "stdout",
     "output_type": "stream",
     "text": [
      "(246, 'lee s hot crab dip', 10)\n",
      "(289, 'feijoada  brazilian bean soup  ii', 10)\n",
      "(544, 'greek mushroom salad', 10)\n",
      "(671, 'cucumber relish', 10)\n",
      "(975, 'basil parmesan biscuits', 10)\n"
     ]
    }
   ],
   "source": [
    "cur.execute(\"select id, name, n_ingredients from Recipesss where n_ingredients = 10 limit 5;\")\n",
    "for recipe in cur.fetchall():\n",
    "    print(recipe)"
   ]
  },
  {
   "cell_type": "markdown",
   "metadata": {},
   "source": [
    "6. Найдите название рецепта, для выполнения которого требуется больше всего времени."
   ]
  },
  {
   "cell_type": "code",
   "execution_count": 83,
   "metadata": {},
   "outputs": [
    {
     "name": "stdout",
     "output_type": "stream",
     "text": [
      "(236274, 'strawberry liqueur', 129615)\n"
     ]
    }
   ],
   "source": [
    "cur.execute(\"SELECT id, name, max(minutes) from Recipesss;\")\n",
    "for recipe in cur.fetchall():\n",
    "    print(recipe)"
   ]
  },
  {
   "cell_type": "markdown",
   "metadata": {},
   "source": [
    "7. Запросите у пользователя id рецепта и верните информацию об этом рецепте. Если рецепт отсуствует, выведите соответствующее сообщение."
   ]
  },
  {
   "cell_type": "code",
   "execution_count": 92,
   "metadata": {},
   "outputs": [
    {
     "name": "stdout",
     "output_type": "stream",
     "text": [
      "Введите id рецепта: 4\n",
      "Информация о рецепте с id = 4 в таблице Recipe:\n",
      "\n",
      "Информация о рецепте с id = 4 в таблице Review:\n"
     ]
    }
   ],
   "source": [
    "id_recipe = int(input(\"Введите id рецепта: \").strip())\n",
    "cur.execute(f\"select * from Recipesss where id = {id_recipe};\")\n",
    "\n",
    "if cur.rowcount == - 1: \n",
    "    print(f'Информация о рецепте с id = {id_recipe} в таблице Recipe:')\n",
    "    for info in cur.fetchall():\n",
    "        print(info)\n",
    "else: \n",
    "    print(f'Информации о рецепте с id = {id_recipe} отсутствует')\n",
    "print()\n",
    "cur.execute(f\"select * from Revieww where id = {id_recipe};\")\n",
    "if cur.rowcount == - 1: \n",
    "    print(f'Информация о рецепте с id = {id_recipe} в таблице Review:')\n",
    "    for info in cur.fetchall():\n",
    "        print(info)\n",
    "        print()\n",
    "else: \n",
    "    print(f'Информации о рецепте с id = {id_recipe} отсутствует.')"
   ]
  },
  {
   "cell_type": "markdown",
   "metadata": {},
   "source": [
    "8. Найдите кол-во отзывов с рейтингом 5."
   ]
  },
  {
   "cell_type": "code",
   "execution_count": 93,
   "metadata": {},
   "outputs": [
    {
     "name": "stdout",
     "output_type": "stream",
     "text": [
      "91361\n"
     ]
    }
   ],
   "source": [
    "cur.execute(\"SELECT count(recipe_id) from Revieww where rating = 5;\")\n",
    "for recipe in cur.fetchall():\n",
    "    print(recipe[0])"
   ]
  },
  {
   "cell_type": "markdown",
   "metadata": {},
   "source": [
    "9. Найдите кол-во уникальных рецептов, не имеющих отзывов с рейтингом, меньше 4. "
   ]
  },
  {
   "cell_type": "code",
   "execution_count": 94,
   "metadata": {},
   "outputs": [
    {
     "name": "stdout",
     "output_type": "stream",
     "text": [
      "20466\n"
     ]
    }
   ],
   "source": [
    "cur.execute(\"SELECT (SELECT COUNT(DISTINCT recipe_id) FROM Revieww) - COUNT(DISTINCT recipe_id) FROM Revieww WHERE rating < 4\")\n",
    "for rec in cur.fetchall():\n",
    "    print(rec[0])"
   ]
  },
  {
   "cell_type": "markdown",
   "metadata": {},
   "source": [
    "10. Найдите кол-во рецептов, опубликованных в 2010 году и имеющих длину не менее 15 минут."
   ]
  },
  {
   "cell_type": "code",
   "execution_count": 95,
   "metadata": {},
   "outputs": [
    {
     "name": "stdout",
     "output_type": "stream",
     "text": [
      "1319\n"
     ]
    }
   ],
   "source": [
    "cur.execute(\"SELECT count(id) from Recipesss where submitted BETWEEN'2010-01-01' and '2010-12-31' and minutes >= 15;\")\n",
    "print(cur.fetchall()[0][0])"
   ]
  },
  {
   "cell_type": "markdown",
   "metadata": {},
   "source": [
    "11. Выберите id рецепта, название рецепта, id пользователя, оставившего отзыв, дату отзыва и рейтинг для тех рецептов, которые имеют не менее 3 ингредиентов. Отсортируйте результат по id рецепта."
   ]
  },
  {
   "cell_type": "code",
   "execution_count": null,
   "metadata": {},
   "outputs": [],
   "source": []
  }
 ],
 "metadata": {
  "kernelspec": {
   "display_name": "Python 3 (ipykernel)",
   "language": "python",
   "name": "python3"
  },
  "language_info": {
   "codemirror_mode": {
    "name": "ipython",
    "version": 3
   },
   "file_extension": ".py",
   "mimetype": "text/x-python",
   "name": "python",
   "nbconvert_exporter": "python",
   "pygments_lexer": "ipython3",
   "version": "3.9.12"
  }
 },
 "nbformat": 4,
 "nbformat_minor": 4
}
